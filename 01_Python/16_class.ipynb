{
 "cells": [
  {
   "cell_type": "markdown",
   "id": "02bcd7f6",
   "metadata": {
    "id": "02bcd7f6"
   },
   "source": [
    "# 16. class (클래스)\n",
    "---"
   ]
  },
  {
   "cell_type": "markdown",
   "id": "2a60cc22",
   "metadata": {
    "id": "2a60cc22"
   },
   "source": [
    "## **[1] 기본 구조**\n",
    "```python\n",
    "class 클래스이름:\n",
    "    def __init__(self, 속성1, 속성2):\n",
    "        self.속성1 = 속성1\n",
    "        self.속성2 = 속성2\n",
    "    def 메서드이름(self):\n",
    "        실행할 코드\n",
    "```"
   ]
  },
  {
   "cell_type": "markdown",
   "id": "d5e0e5f4",
   "metadata": {
    "id": "d5e0e5f4"
   },
   "source": [
    "## **[2] 클래스 정의**"
   ]
  },
  {
   "cell_type": "code",
   "execution_count": 1,
   "id": "6e5070eb",
   "metadata": {
    "executionInfo": {
     "elapsed": 6,
     "status": "ok",
     "timestamp": 1743662015046,
     "user": {
      "displayName": "Kim InSeop",
      "userId": "13965062148001194946"
     },
     "user_tz": -540
    },
    "id": "6e5070eb"
   },
   "outputs": [],
   "source": [
    "class Bread:\n",
    "    def __init__(self, name, ingredient, price):\n",
    "        self.name = name\n",
    "        self.ingredient = ingredient\n",
    "        self.price = price\n",
    "    def info(self):\n",
    "        print(f'이 빵은 {self.name}이고, {self.ingredient}이 들어가있습니다. 가격은 {self.price}원 입니다.')"
   ]
  },
  {
   "cell_type": "code",
   "execution_count": 2,
   "id": "M70SvdxXCs8Y",
   "metadata": {
    "colab": {
     "base_uri": "https://localhost:8080/"
    },
    "executionInfo": {
     "elapsed": 4,
     "status": "ok",
     "timestamp": 1743662015139,
     "user": {
      "displayName": "Kim InSeop",
      "userId": "13965062148001194946"
     },
     "user_tz": -540
    },
    "id": "M70SvdxXCs8Y",
    "outputId": "723acb2f-6a32-40cc-86bb-ff79afcb1b2f"
   },
   "outputs": [
    {
     "name": "stdout",
     "output_type": "stream",
     "text": [
      "이 빵은 팥빵이고, 팥이 들어가있습니다. 가격은 500원 입니다.\n"
     ]
    }
   ],
   "source": [
    "bread1 = Bread('팥빵', '팥', 500)\n",
    "bread1.info()"
   ]
  },
  {
   "cell_type": "code",
   "execution_count": 3,
   "id": "RC7Y5aSFCs6Q",
   "metadata": {
    "colab": {
     "base_uri": "https://localhost:8080/"
    },
    "executionInfo": {
     "elapsed": 5,
     "status": "ok",
     "timestamp": 1743662144773,
     "user": {
      "displayName": "Kim InSeop",
      "userId": "13965062148001194946"
     },
     "user_tz": -540
    },
    "id": "RC7Y5aSFCs6Q",
    "outputId": "5725e648-987c-4c18-c55b-fb4fba64fcf1"
   },
   "outputs": [
    {
     "name": "stdout",
     "output_type": "stream",
     "text": [
      "이 빵은 초코크림빵이고, 초코크림이 들어가있습니다. 가격은 700원 입니다.\n"
     ]
    }
   ],
   "source": [
    "bread2 = Bread('초코크림빵', '초코크림', 700)\n",
    "bread2.info()"
   ]
  },
  {
   "cell_type": "markdown",
   "id": "25d05ad2",
   "metadata": {
    "id": "25d05ad2"
   },
   "source": [
    "## **[3] 클래스의 주요 요소**"
   ]
  },
  {
   "cell_type": "markdown",
   "id": "94b656a8-d3dd-4d1a-8616-7aac73076545",
   "metadata": {},
   "source": [
    "### **1. 생성자**\n",
    "### **`__init__`**\n",
    "- 객체를 생성할 때 맨 처음 호출됨\n",
    "- 초기화를 진행함"
   ]
  },
  {
   "cell_type": "code",
   "execution_count": 4,
   "id": "4e34b836",
   "metadata": {
    "colab": {
     "base_uri": "https://localhost:8080/"
    },
    "executionInfo": {
     "elapsed": 10,
     "status": "ok",
     "timestamp": 1743662213318,
     "user": {
      "displayName": "Kim InSeop",
      "userId": "13965062148001194946"
     },
     "user_tz": -540
    },
    "id": "4e34b836",
    "outputId": "6e3214d2-9ab1-487b-e828-157f7b199f57"
   },
   "outputs": [
    {
     "name": "stdout",
     "output_type": "stream",
     "text": [
      "hanna 20\n",
      "저는 hanna, 나이는 20살 입니다.\n"
     ]
    }
   ],
   "source": [
    "class People:\n",
    "    def __init__(self, name, age):\n",
    "        self.name = name\n",
    "        self.age = age\n",
    "    def info(self):\n",
    "        return f'저는 {self.name}, 나이는 {self.age}살 입니다.'\n",
    "\n",
    "People1 = People('hanna', 20)\n",
    "\n",
    "print(People1.name, People1.age)\n",
    "print(People1.info())"
   ]
  },
  {
   "cell_type": "markdown",
   "id": "55afd0cd",
   "metadata": {
    "id": "55afd0cd"
   },
   "source": [
    "### **2. 메서드**\n",
    "- 클래스 내부에서 정의된 함수\n",
    "- 객체의 동작을 정의함"
   ]
  },
  {
   "cell_type": "code",
   "execution_count": 5,
   "id": "bc9123d9",
   "metadata": {
    "id": "bc9123d9"
   },
   "outputs": [
    {
     "data": {
      "text/plain": [
       "(8, 15)"
      ]
     },
     "execution_count": 5,
     "metadata": {},
     "output_type": "execute_result"
    }
   ],
   "source": [
    "class Cal:\n",
    "    def __init__(self, a, b):\n",
    "        self.a = a\n",
    "        self.b = b\n",
    "    def add(self):\n",
    "        return self.a + self.b\n",
    "    def multiple(self):\n",
    "        return self.a * self.b\n",
    "\n",
    "calc = Cal(3, 5)\n",
    "calc.add(), calc.multiple()"
   ]
  },
  {
   "cell_type": "markdown",
   "id": "189044b6-a9a8-4ab2-b6c0-4b29837d2a12",
   "metadata": {},
   "source": [
    "## **[3] 상속**"
   ]
  },
  {
   "cell_type": "code",
   "execution_count": 6,
   "id": "f31b082d-5a18-4dc6-9126-a813b6b9abbf",
   "metadata": {},
   "outputs": [
    {
     "name": "stdout",
     "output_type": "stream",
     "text": [
      "멍멍!\n",
      "야옹!\n",
      "동물은 소리를 낸다.\n"
     ]
    }
   ],
   "source": [
    "class Animal:\n",
    "    def __init__(self, name):\n",
    "        self.name = name\n",
    "    def sound(self):\n",
    "        print('동물은 소리를 낸다.')\n",
    "\n",
    "# Animal 클래스를 상속받아 Dog 클래스 정의\n",
    "class Dog(Animal):\n",
    "    # sound 메서드를 오버라이드하여 소리 출력\n",
    "    def sound(self):\n",
    "        print('멍멍!')\n",
    "        \n",
    "# Animal 클래스를 상속받아 Cat 클래스 정의\n",
    "class Cat(Animal):\n",
    "    # sound 메서드를 오버라이드하여 소리 출력\n",
    "    def sound(self):\n",
    "        print('야옹!')\n",
    "\n",
    "dog = Dog('바둑이')\n",
    "dog.sound()\n",
    "\n",
    "cat = Cat('나비')\n",
    "cat.sound()\n",
    "\n",
    "animal = Animal('동물')\n",
    "animal.sound()"
   ]
  }
 ],
 "metadata": {
  "colab": {
   "provenance": []
  },
  "kernelspec": {
   "display_name": ".venv",
   "language": "python",
   "name": "python3"
  },
  "language_info": {
   "codemirror_mode": {
    "name": "ipython",
    "version": 3
   },
   "file_extension": ".py",
   "mimetype": "text/x-python",
   "name": "python",
   "nbconvert_exporter": "python",
   "pygments_lexer": "ipython3",
   "version": "3.13.5"
  }
 },
 "nbformat": 4,
 "nbformat_minor": 5
}
