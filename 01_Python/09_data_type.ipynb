{
 "cells": [
  {
   "cell_type": "markdown",
   "id": "7e065762-e058-4dab-945d-e8489f4d900e",
   "metadata": {},
   "source": [
    "# 09. data type (데이터 타입)\n",
    "---"
   ]
  },
  {
   "cell_type": "markdown",
   "id": "5f34a4b9",
   "metadata": {},
   "source": [
    "- v: 데이터 타입 이름"
   ]
  },
  {
   "cell_type": "markdown",
   "id": "6470de82-fdbd-47ec-8d38-2b08018814b6",
   "metadata": {},
   "source": [
    "| 항목 | 문자형(str) | 리스트(list) | 튜플(tuple) | 딕셔너리(dict) | 집합(set) |\n",
    "| --- | --- | --- | --- | --- | --- |\n",
    "| **순서** | ⭕ | ⭕ | ⭕ | ❌ (python3.7 이상은 유지) | ❌ |\n",
    "| **생성** | `v = '값'` | `v = [값]` | `v = (값, )`<br>값 1개 시 쉼표 필수 | `v = {'키': 값}` | `v = {값}` |\n",
    "| **조회** | `v[0]` | `v[0]` | `v[0]` | `v['키']`<br>`v.get('키','메시지')`<br>`v.keys()`: 전체 키 반환<br>`v.values()`: 전체 값 반환<br>`v.items()`: 전체 키, 값 반환 | `값 in v`<br>True, False만 확인 가능 |\n",
    "| **탐색** | `v.find(값)`: -1 반환<br>`v.index(값)`: 에러 반환 | `v.index(값)` | `v.index(값)` | ✖️ | ✖️ |\n",
    "| **추가** | ✖️ | `v.append(값)`<br>`v.insert(인덱스, 값)`<br>`v.extend(값, 값)`: 리스트 추가 가능 | ✖️ | `v['키'] = 값`<br>`v.update({'키': 값})` | `v.add(값)` |\n",
    "| **삭제** | ✖️ | `v.remove(값)`<br>`v.pop(인덱스)`<br>`del v[인덱스]` | ✖️ | `v.pop('키')`<br>`del v['키']` | `v.remove(값)`: 에러<br>`v.discard(값)`: 무시<br>`v.pop()`: 임의 제거 |\n",
    "| **전체삭제** | ✖️ | `v.clear()` | ✖️ | `v.clear()` | `v.clear()` |\n",
    "| **정렬** | `sorted(v)`: 리스트로 반환 | `v.sort()`<br>`sorted(v)`<br>`v.reverse()` | ✖️ | ✖️ | `sorted(v)` |\n",
    "| **카운팅** | `v.count(값)` | `v.count(값)` | `v.count(값)` | `collections.Counter(v.values())` | `collections.Counter(v)` |\n",
    "| **그 외** | `split()`<br>`replace()`<br>`join()` | `copy()` | `join()` | `popitem()`<br>`setdefault()` | `union()`<br>`intersection()`<br>`difference()` |"
   ]
  }
 ],
 "metadata": {
  "kernelspec": {
   "display_name": "Python 3 (ipykernel)",
   "language": "python",
   "name": "python3"
  },
  "language_info": {
   "codemirror_mode": {
    "name": "ipython",
    "version": 3
   },
   "file_extension": ".py",
   "mimetype": "text/x-python",
   "name": "python",
   "nbconvert_exporter": "python",
   "pygments_lexer": "ipython3",
   "version": "3.13.5"
  }
 },
 "nbformat": 4,
 "nbformat_minor": 5
}
