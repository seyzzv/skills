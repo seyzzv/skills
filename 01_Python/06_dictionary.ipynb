{
 "cells": [
  {
   "cell_type": "markdown",
   "id": "dccc892e",
   "metadata": {
    "id": "dccc892e"
   },
   "source": [
    "# 06. dictionary (딕셔너리)\n",
    "---"
   ]
  },
  {
   "cell_type": "markdown",
   "id": "5545f8ea",
   "metadata": {
    "id": "5545f8ea"
   },
   "source": [
    "## **[1] 딕셔너리란?**\n",
    "- `{키: 값}`의 쌍으로 구성\n",
    "- 키 중복 불가\n",
    "- 순서가 없기에 인덱스로 접근이 불가능함\n",
    "    - python3.7 이상은 순서 유지"
   ]
  },
  {
   "cell_type": "code",
   "execution_count": 1,
   "id": "6684e799",
   "metadata": {},
   "outputs": [
    {
     "data": {
      "text/plain": [
       "dict"
      ]
     },
     "execution_count": 1,
     "metadata": {},
     "output_type": "execute_result"
    }
   ],
   "source": [
    "dict = {}\n",
    "type(dict)"
   ]
  },
  {
   "cell_type": "code",
   "execution_count": 2,
   "id": "785d2196",
   "metadata": {
    "colab": {
     "base_uri": "https://localhost:8080/"
    },
    "executionInfo": {
     "elapsed": 11,
     "status": "ok",
     "timestamp": 1743581881959,
     "user": {
      "displayName": "Kim InSeop",
      "userId": "13965062148001194946"
     },
     "user_tz": -540
    },
    "id": "785d2196",
    "outputId": "85ee5558-36bc-4f50-f7f8-efb3b4565b68"
   },
   "outputs": [
    {
     "name": "stdout",
     "output_type": "stream",
     "text": [
      "{}\n",
      "{'fruit': 'apple', 'price': 1000}\n"
     ]
    }
   ],
   "source": [
    "# 생성\n",
    "dict_1 = {}\n",
    "print(dict_1)\n",
    "\n",
    "dict_2 = {'fruit': 'apple', 'price': 1000}\n",
    "print(dict_2)"
   ]
  },
  {
   "cell_type": "code",
   "execution_count": 3,
   "id": "e0dc5b89",
   "metadata": {
    "colab": {
     "base_uri": "https://localhost:8080/"
    },
    "executionInfo": {
     "elapsed": 37,
     "status": "ok",
     "timestamp": 1744087743425,
     "user": {
      "displayName": "Kim InSeop",
      "userId": "13965062148001194946"
     },
     "user_tz": -540
    },
    "id": "e0dc5b89",
    "outputId": "c053c611-2008-4a3c-e972-59c4486d2db2"
   },
   "outputs": [
    {
     "name": "stdout",
     "output_type": "stream",
     "text": [
      "과일:  apple\n",
      "가격:  1000\n"
     ]
    }
   ],
   "source": [
    "# 값 접근\n",
    "fruits = {'fruit': 'apple', 'price': 1000}\n",
    "\n",
    "print('과일: ', fruits['fruit'])\n",
    "print('가격: ', fruits['price'])"
   ]
  },
  {
   "cell_type": "code",
   "execution_count": 4,
   "id": "7d4cda41",
   "metadata": {
    "colab": {
     "base_uri": "https://localhost:8080/"
    },
    "executionInfo": {
     "elapsed": 9,
     "status": "ok",
     "timestamp": 1743582025366,
     "user": {
      "displayName": "Kim InSeop",
      "userId": "13965062148001194946"
     },
     "user_tz": -540
    },
    "id": "7d4cda41",
    "outputId": "be2d5914-e16b-4674-a923-df4cb248b1f5"
   },
   "outputs": [
    {
     "name": "stdout",
     "output_type": "stream",
     "text": [
      "원본:  {'fruit': 'apple', 'price': 1000}\n",
      "추가 후:  {'fruit': 'apple', 'price': 1000, 'color': 'red'}\n"
     ]
    }
   ],
   "source": [
    "# 값 추가\n",
    "fruits = {'fruit': 'apple', 'price': 1000}\n",
    "print('원본: ', fruits)\n",
    "\n",
    "fruits['color'] = 'red'\n",
    "print('추가 후: ',fruits)"
   ]
  },
  {
   "cell_type": "code",
   "execution_count": 5,
   "id": "5fce1014",
   "metadata": {
    "colab": {
     "base_uri": "https://localhost:8080/"
    },
    "executionInfo": {
     "elapsed": 45,
     "status": "ok",
     "timestamp": 1743582095962,
     "user": {
      "displayName": "Kim InSeop",
      "userId": "13965062148001194946"
     },
     "user_tz": -540
    },
    "id": "5fce1014",
    "outputId": "30726e38-2b87-4469-f178-c1d48afb762a"
   },
   "outputs": [
    {
     "name": "stdout",
     "output_type": "stream",
     "text": [
      "원본:  {'fruit': 'apple', 'price': 1000, 'color': 'red'}\n",
      "제거 후:  {'fruit': 'apple', 'price': 1000}\n"
     ]
    }
   ],
   "source": [
    "# 일부 값 삭제\n",
    "print('원본: ', fruits)\n",
    "\n",
    "del fruits['color']\n",
    "print('제거 후: ', fruits)"
   ]
  },
  {
   "cell_type": "code",
   "execution_count": 6,
   "id": "cb8d4522-8833-44e8-b1b9-f779711bc037",
   "metadata": {},
   "outputs": [
    {
     "name": "stdout",
     "output_type": "stream",
     "text": [
      "{}\n"
     ]
    }
   ],
   "source": [
    "# 모든 값 삭제\n",
    "fruits.clear()\n",
    "print(fruits)"
   ]
  },
  {
   "cell_type": "code",
   "execution_count": 7,
   "id": "c3f47f33-dd3b-4c5d-9319-9c8b9ff4aab4",
   "metadata": {},
   "outputs": [
    {
     "name": "stdout",
     "output_type": "stream",
     "text": [
      "[{'index': 0, 'message': {'role': 'assistant', 'content': '안녕하세요! 무엇을 도와드릴까요?'}, 'finish_reason': 'stop'}]\n",
      "{'index': 0, 'message': {'role': 'assistant', 'content': '안녕하세요! 무엇을 도와드릴까요?'}, 'finish_reason': 'stop'}\n",
      "{'role': 'assistant', 'content': '안녕하세요! 무엇을 도와드릴까요?'}\n",
      "안녕하세요! 무엇을 도와드릴까요?\n"
     ]
    }
   ],
   "source": [
    "# 값 선택\n",
    "# content에 들어있는 메세지 내용 추출\n",
    "data = {\n",
    "    'id': 'chatcmpl-abc123',\n",
    "    'object': 'chat.completion',\n",
    "    'created': 1677858242,\n",
    "    'model': 'gpt-4-1106-preview',\n",
    "    'choices': [\n",
    "        {\n",
    "            'index': 0,\n",
    "            'message': {\n",
    "                'role': 'assistant',\n",
    "                'content': '안녕하세요! 무엇을 도와드릴까요?',\n",
    "            },\n",
    "            'finish_reason': 'stop',\n",
    "        }\n",
    "    ],\n",
    "    'usage': {\n",
    "        'prompt_tokens': 10,\n",
    "        'completion_tokens': 10,\n",
    "        'total_tokens': 20,\n",
    "    },\n",
    "}\n",
    "\n",
    "print(data['choices'])\n",
    "# 리스트를 벗기기 위한 [0]\n",
    "print(data['choices'][0])\n",
    "print(data['choices'][0]['message'])\n",
    "print(data['choices'][0]['message']['content'])"
   ]
  },
  {
   "cell_type": "code",
   "execution_count": 8,
   "id": "83c18894",
   "metadata": {},
   "outputs": [
    {
     "ename": "TypeError",
     "evalue": "'dict' object is not callable",
     "output_type": "error",
     "traceback": [
      "\u001b[31m---------------------------------------------------------------------------\u001b[39m",
      "\u001b[31mTypeError\u001b[39m                                 Traceback (most recent call last)",
      "\u001b[36mCell\u001b[39m\u001b[36m \u001b[39m\u001b[32mIn[8]\u001b[39m\u001b[32m, line 8\u001b[39m\n\u001b[32m      5\u001b[39m prices = (\u001b[32m1000\u001b[39m, \u001b[32m2000\u001b[39m)\n\u001b[32m      7\u001b[39m \u001b[38;5;66;03m# 시퀀스를 합쳐서 딕셔너리로 변환\u001b[39;00m\n\u001b[32m----> \u001b[39m\u001b[32m8\u001b[39m \u001b[38;5;28;43mdict\u001b[39;49m\u001b[43m(\u001b[49m\u001b[38;5;28;43mzip\u001b[39;49m\u001b[43m(\u001b[49m\u001b[43mfruits\u001b[49m\u001b[43m,\u001b[49m\u001b[43m \u001b[49m\u001b[43mprices\u001b[49m\u001b[43m)\u001b[49m\u001b[43m)\u001b[49m\n",
      "\u001b[31mTypeError\u001b[39m: 'dict' object is not callable"
     ]
    }
   ],
   "source": [
    "# 키가 될 리스트\n",
    "fruits = ['사과', '바나나']\n",
    "\n",
    "# 값이 될 튜플\n",
    "prices = (1000, 2000)\n",
    "\n",
    "# 시퀀스를 합쳐서 딕셔너리로 변환\n",
    "dict(zip(fruits, prices))"
   ]
  },
  {
   "cell_type": "markdown",
   "id": "5addef8d",
   "metadata": {
    "id": "5addef8d"
   },
   "source": [
    "## **[2] 주요 함수**\n",
    "1. 모든 키 반환: `keys`\n",
    "2. 모든 값 반환: `values`\n",
    "3. 모든 키, 값 반환: `items`\n",
    "4. 지정한 키 반환: `get`\n",
    "5. 지정한 키 제거: `pop`\n",
    "6. 딕셔너리 추가: `update`\n",
    "7. 마지막 항목 제거 후 반환: `popitem`\n",
    "8. 값 조회, 없으면 값 추가: `setdefault`"
   ]
  },
  {
   "cell_type": "markdown",
   "id": "f7b0da68-f732-45c6-846a-613d56c5c1d5",
   "metadata": {},
   "source": [
    "### **1. 모든 키 반환**\n",
    "### **`x.keys()`**\n",
    "- x: 딕셔너리명"
   ]
  },
  {
   "cell_type": "code",
   "execution_count": null,
   "id": "b65bbc1a",
   "metadata": {
    "colab": {
     "base_uri": "https://localhost:8080/"
    },
    "executionInfo": {
     "elapsed": 10,
     "status": "ok",
     "timestamp": 1743582594611,
     "user": {
      "displayName": "Kim InSeop",
      "userId": "13965062148001194946"
     },
     "user_tz": -540
    },
    "id": "b65bbc1a",
    "outputId": "9ef8c33c-a6b2-41be-f042-0fb2ec4b6f1a"
   },
   "outputs": [],
   "source": [
    "flowers = {'tulip': 'red', 'sunflower': 'yellow', 'azalea': 'pink'}\n",
    "flowers.keys()"
   ]
  },
  {
   "cell_type": "markdown",
   "id": "51d15e8c-ba9a-45ca-b5c7-69641955e130",
   "metadata": {},
   "source": [
    "### **2. 모든 값 반환**\n",
    "### **`x.values()`**\n",
    "- x: 딕셔너리명"
   ]
  },
  {
   "cell_type": "code",
   "execution_count": null,
   "id": "e583bfa5-709c-44e9-b0b9-cc0f7afe18f3",
   "metadata": {},
   "outputs": [],
   "source": [
    "flowers = {'tulip': 'red', 'sunflower': 'yellow', 'azalea': 'pink'}\n",
    "flowers.values()"
   ]
  },
  {
   "cell_type": "markdown",
   "id": "35aa6fb4-a7b5-4fb0-a52a-34db23a7f427",
   "metadata": {},
   "source": [
    "### **3. 모든 키, 값 반환**\n",
    "### **`x.items()`**\n",
    "- x: 딕셔너리명"
   ]
  },
  {
   "cell_type": "code",
   "execution_count": null,
   "id": "57ef43ae-ecd6-44df-b2ff-3426fd700ebe",
   "metadata": {},
   "outputs": [],
   "source": [
    "flowers = {'tulip': 'red', 'sunflower': 'yellow', 'azalea': 'pink'}\n",
    "flowers.items()"
   ]
  },
  {
   "cell_type": "code",
   "execution_count": null,
   "id": "81c1548d-8345-4b6d-a7eb-8f1158230740",
   "metadata": {},
   "outputs": [],
   "source": [
    "# 반복문 형태로 자주 쓰임\n",
    "for k, v in flowers.items():\n",
    "    print('키: ', k)\n",
    "    print('값: ', v)"
   ]
  },
  {
   "cell_type": "markdown",
   "id": "938f9f27",
   "metadata": {
    "id": "938f9f27"
   },
   "source": [
    "### **4. 지정한 키 반환**\n",
    "### **`x.get('키', '메시지')`**\n",
    "- x: 딕셔너리명\n",
    "- 예외처리가 적용된 함수\n",
    "- 찾는 키가 없는 경우 메시지를 노출한다."
   ]
  },
  {
   "cell_type": "code",
   "execution_count": null,
   "id": "d79154bc",
   "metadata": {
    "colab": {
     "base_uri": "https://localhost:8080/",
     "height": 181
    },
    "executionInfo": {
     "elapsed": 135,
     "status": "error",
     "timestamp": 1743582632493,
     "user": {
      "displayName": "Kim InSeop",
      "userId": "13965062148001194946"
     },
     "user_tz": -540
    },
    "id": "d79154bc",
    "outputId": "bc75d82e-4503-4ac8-d41f-3bfbc82f5663"
   },
   "outputs": [],
   "source": [
    "flowers = {'tulip': 'red', 'sunflower': 'yellow', 'azalea': 'pink'}\n",
    "flowers.get('rose', '없음')"
   ]
  },
  {
   "cell_type": "markdown",
   "id": "a3c1471d",
   "metadata": {
    "id": "a3c1471d"
   },
   "source": [
    "### **5. 지정한 키 제거**\n",
    "### **`x.pop('키')`**\n",
    "- x: 딕셔너리명"
   ]
  },
  {
   "cell_type": "code",
   "execution_count": null,
   "id": "0f767825",
   "metadata": {
    "id": "0f767825"
   },
   "outputs": [],
   "source": [
    "flowers = {'tulip': 'red', 'sunflower': 'yellow', 'azalea': 'pink'}\n",
    "print('원본: ', flowers)\n",
    "azalea = flowers.pop('azalea')\n",
    "\n",
    "print('제거 값: ', azalea)\n",
    "print('제거 후: ', flowers)"
   ]
  },
  {
   "cell_type": "markdown",
   "id": "2430a211",
   "metadata": {
    "id": "2430a211"
   },
   "source": [
    "### **6. 딕셔너리 추가**\n",
    "### **`x.update({키: 값}, {키: 값})`**\n",
    "- x: 딕셔너리명"
   ]
  },
  {
   "cell_type": "code",
   "execution_count": null,
   "id": "497cc321",
   "metadata": {
    "colab": {
     "base_uri": "https://localhost:8080/"
    },
    "executionInfo": {
     "elapsed": 6,
     "status": "ok",
     "timestamp": 1743582735192,
     "user": {
      "displayName": "Kim InSeop",
      "userId": "13965062148001194946"
     },
     "user_tz": -540
    },
    "id": "497cc321",
    "outputId": "951d01bc-969e-486d-aa80-c36d437eca70"
   },
   "outputs": [],
   "source": [
    "flowers = {'tulip': 'red', 'sunflower': 'yellow', 'azalea': 'pink'}\n",
    "print('원본: ', flowers)\n",
    "\n",
    "flowers.update({'lily': 'white', 'violet': 'violet'})\n",
    "print('추가 후: ', flowers)"
   ]
  },
  {
   "cell_type": "markdown",
   "id": "fcde62aa-6c2b-49b9-b85c-ba33bd460bf6",
   "metadata": {},
   "source": [
    "### **7. 마지막 항목 제거 후 반환**\n",
    "### **`x.popitem()`**\n",
    "- x: 딕셔너리명\n",
    "- 딕셔너리에서 마지막 삽입된 (key, value) 쌍을 제거하고 반환\n",
    "- Python 3.7 이상부터는 삽입 순서가 유지되므로 항상 마지막 항목이 제거됨\n",
    "- 제거값은 튜플로 반환"
   ]
  },
  {
   "cell_type": "code",
   "execution_count": null,
   "id": "285d9f15-d73e-4ca7-94ca-7e059fb483ba",
   "metadata": {},
   "outputs": [],
   "source": [
    "pop_1 = {'a': 1, 'b': 2, 'c': 3}\n",
    "print('원본: ', pop_1)\n",
    "pop_2 = pop_1.popitem()\n",
    "\n",
    "print('제거 후: ', pop_1)\n",
    "print('제거된 값: ', pop_2)\n",
    "print('제거된 값 타입: ', type(pop_2))"
   ]
  },
  {
   "cell_type": "markdown",
   "id": "ec0367d8-c1f2-49f7-bbd3-fc651f0c8044",
   "metadata": {},
   "source": [
    "### **8. 값 조회, 없으면 값 추가**\n",
    "### **`x.setdefault(키, 값)`**\n",
    "- x: 딕셔너리명\n",
    "- 딕셔너리에 key가 존재하면 해당 값 반환\n",
    "- 존재하지 않으면 키와 값을 추가하고 값 반환"
   ]
  },
  {
   "cell_type": "code",
   "execution_count": null,
   "id": "8906dfb5-97ac-42bf-9be1-a67a7ef38b9f",
   "metadata": {},
   "outputs": [],
   "source": [
    "# 키가 존재하는 경우\n",
    "dict_1 = {'a': 1, 'b': 2}\n",
    "\n",
    "# 키가 이미 존재하기 때문에 해당 값 반환 (작성된 값은 무시됨)\n",
    "dict_2 = dict_1.setdefault('b', 100)\n",
    "print('원본: ', dict_1)\n",
    "print('b키 변화 확인 (변화없음): ', dict_2)"
   ]
  },
  {
   "cell_type": "code",
   "execution_count": null,
   "id": "91264be7-0f21-4271-a2ac-d2131ad05f25",
   "metadata": {},
   "outputs": [],
   "source": [
    "# 키가 존재하지 않는 경우\n",
    "dict_1= {'a': 1, 'b': 2}\n",
    "print('원본: ', dict_1)\n",
    "\n",
    "# 키가 존재하지 않기 때문에 추가됨\n",
    "dict_2 = dict_1.setdefault('c', 100)\n",
    "print('추가된 값: ', dict_2)\n",
    "print('추가 후:', dict_1)"
   ]
  }
 ],
 "metadata": {
  "colab": {
   "provenance": []
  },
  "kernelspec": {
   "display_name": ".venv",
   "language": "python",
   "name": "python3"
  },
  "language_info": {
   "codemirror_mode": {
    "name": "ipython",
    "version": 3
   },
   "file_extension": ".py",
   "mimetype": "text/x-python",
   "name": "python",
   "nbconvert_exporter": "python",
   "pygments_lexer": "ipython3",
   "version": "3.13.5"
  }
 },
 "nbformat": 4,
 "nbformat_minor": 5
}
