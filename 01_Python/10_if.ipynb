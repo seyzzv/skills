{
 "cells": [
  {
   "cell_type": "markdown",
   "id": "e9386fad",
   "metadata": {
    "id": "e9386fad"
   },
   "source": [
    "# 10. if (조건문)\n",
    "---"
   ]
  },
  {
   "cell_type": "markdown",
   "id": "8f8c9347",
   "metadata": {
    "id": "8f8c9347"
   },
   "source": [
    "## **[1] 기본 구조**\n",
    "```python\n",
    "if 조건:\n",
    "    실행할 코드\n",
    "elif 조건:\n",
    "    실행할 코드\n",
    "else:\n",
    "    실행할 코드\n",
    "```\n",
    "- **`if`**: 조건이 참이면 코드 실행\n",
    "- **`elif`**: 위 조건이 모두 거짓일 때 새로운 조건을 검사\n",
    "- **`else`**: 모든 조건이 거짓일 때 실행"
   ]
  },
  {
   "cell_type": "code",
   "execution_count": 1,
   "id": "bcf929e9-2d1e-42e6-b0d5-592343f3a164",
   "metadata": {},
   "outputs": [
    {
     "name": "stdout",
     "output_type": "stream",
     "text": [
      "참\n"
     ]
    }
   ],
   "source": [
    "is_a = True\n",
    "if is_a:\n",
    "    print('참')\n",
    "elif is_a == False:\n",
    "    print('거짓')\n",
    "else:\n",
    "    print('?')"
   ]
  },
  {
   "cell_type": "code",
   "execution_count": 2,
   "id": "5b543f33-a321-4acd-b7fe-5a57827e1224",
   "metadata": {},
   "outputs": [
    {
     "name": "stdout",
     "output_type": "stream",
     "text": [
      "거짓\n"
     ]
    }
   ],
   "source": [
    "is_a = False\n",
    "if is_a:\n",
    "    print('참')\n",
    "elif is_a == False:\n",
    "    print('거짓')\n",
    "else:\n",
    "    print('?')"
   ]
  },
  {
   "cell_type": "code",
   "execution_count": 3,
   "id": "7948a664-5707-4332-97d6-a9db034b5898",
   "metadata": {},
   "outputs": [
    {
     "name": "stdout",
     "output_type": "stream",
     "text": [
      "?\n"
     ]
    }
   ],
   "source": [
    "is_a = None\n",
    "if is_a:\n",
    "    print('참')\n",
    "elif is_a == False:\n",
    "    print('거짓')\n",
    "else:\n",
    "    print('?')"
   ]
  },
  {
   "cell_type": "markdown",
   "id": "4fb27081",
   "metadata": {
    "id": "4fb27081"
   },
   "source": [
    "## **[2] 비교 연산자**\n",
    "|연산자|설명|\n",
    "|---|---|\n",
    "|`a == b`|a와 b가 같다.|\n",
    "|`a != b`|a와 b가 같지 않다.|\n",
    "|`a < b`|a가 b보다 작다.|\n",
    "|`a <= b`|a가 b보다 작거나 같다.|\n",
    "|`a > b`|a가 b보다 크다.|\n",
    "|`a >= b`|a가 b보다 크거나 같다.|"
   ]
  },
  {
   "cell_type": "code",
   "execution_count": 4,
   "id": "57ae211e",
   "metadata": {
    "id": "57ae211e"
   },
   "outputs": [
    {
     "name": "stdout",
     "output_type": "stream",
     "text": [
      "성인\n"
     ]
    }
   ],
   "source": [
    "age = 20\n",
    "\n",
    "if age < 13:\n",
    "    print('어린이')\n",
    "elif age < 20:\n",
    "    print('청소년')\n",
    "else:\n",
    "    print('성인')"
   ]
  },
  {
   "cell_type": "markdown",
   "id": "c48ee5b8-5d71-4ecf-b9d1-3e1ae2e0327d",
   "metadata": {},
   "source": [
    "## **[3] 논리 연산자**\n",
    "|연산자|설명|예시|결과|\n",
    "|---|---|---|---|\n",
    "|`and`|둘 다 True일 때만 True|`True and False`|`False`|\n",
    "|`or`|둘 중 하나만 True면 True|`True or False`|`True`|\n",
    "|`not`|True <> False 반전|`not True`|`False`|\n",
    "|`in`|값이 존재하면 True|`3 in [1, 2, 3]`|`True`|\n",
    "|`not in`|값이 존재하지 않으면 True|`4 not in [1, 2, 3]`|`True`|"
   ]
  },
  {
   "cell_type": "code",
   "execution_count": 5,
   "id": "b1ffe9cf-38ef-4f92-8a62-f055a48db864",
   "metadata": {},
   "outputs": [
    {
     "name": "stdout",
     "output_type": "stream",
     "text": [
      "합격\n"
     ]
    }
   ],
   "source": [
    "# 조건이 두 개 이상일 때 사용\n",
    "score_1 = 85\n",
    "score_2 = 75\n",
    "\n",
    "if score_1 >= 80 and score_2 >= 70:\n",
    "    print('합격')\n",
    "elif score_1 >= 80 or score_2 >= 70:\n",
    "    print('조건부 합격')\n",
    "else:\n",
    "    print('불합격')"
   ]
  },
  {
   "cell_type": "code",
   "execution_count": 6,
   "id": "46539483-2726-4211-b89b-010ac6a50693",
   "metadata": {},
   "outputs": [
    {
     "name": "stdout",
     "output_type": "stream",
     "text": [
      "결석\n"
     ]
    }
   ],
   "source": [
    "is_present = False\n",
    "\n",
    "if not is_present:\n",
    "    print(\"결석\")\n",
    "else:\n",
    "    print(\"출석\")"
   ]
  },
  {
   "cell_type": "code",
   "execution_count": 7,
   "id": "d8c39c27-c9de-4067-8bf4-0688b324be63",
   "metadata": {},
   "outputs": [
    {
     "name": "stdout",
     "output_type": "stream",
     "text": [
      "가위 바위 보 입력:  가위\n"
     ]
    },
    {
     "name": "stdout",
     "output_type": "stream",
     "text": [
      "플레이어:  가위\n",
      "컴퓨터:  가위\n",
      "무승부\n"
     ]
    }
   ],
   "source": [
    "import random\n",
    "computer = random.choice(['가위', '바위', '보'])\n",
    "\n",
    "# 치트\n",
    "# print('치트: ', computer)\n",
    "\n",
    "player = input('가위 바위 보 입력: ')\n",
    "\n",
    "print('플레이어: ', player)\n",
    "print('컴퓨터: ', computer)\n",
    "\n",
    "if player == computer:\n",
    "    print('무승부')\n",
    "elif player == '가위':\n",
    "    if computer == '바위':\n",
    "        print('컴퓨터 승리')\n",
    "    else:\n",
    "        print('플레이어 승리')\n",
    "elif player == '바위':\n",
    "    if computer == '보':\n",
    "        print('컴퓨터 승리')\n",
    "    else:\n",
    "        print('플레이어 승리')\n",
    "elif player == '보':\n",
    "    if computer == '가위':\n",
    "        print('컴퓨터 승리')\n",
    "    else:\n",
    "        print('플레이어 승리')\n",
    "else:\n",
    "    print('잘못된 값')"
   ]
  }
 ],
 "metadata": {
  "colab": {
   "provenance": []
  },
  "kernelspec": {
   "display_name": "Python 3 (ipykernel)",
   "language": "python",
   "name": "python3"
  },
  "language_info": {
   "codemirror_mode": {
    "name": "ipython",
    "version": 3
   },
   "file_extension": ".py",
   "mimetype": "text/x-python",
   "name": "python",
   "nbconvert_exporter": "python",
   "pygments_lexer": "ipython3",
   "version": "3.13.5"
  }
 },
 "nbformat": 4,
 "nbformat_minor": 5
}
