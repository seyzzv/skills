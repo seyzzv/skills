{
 "cells": [
  {
   "cell_type": "markdown",
   "id": "f4361a56",
   "metadata": {
    "id": "f4361a56"
   },
   "source": [
    "# 12. while (반복문)\n",
    "---"
   ]
  },
  {
   "cell_type": "markdown",
   "id": "1b084797",
   "metadata": {
    "id": "1b084797"
   },
   "source": [
    "## **[1] 기본 구조**\n",
    "```python\n",
    "  while 조건:\n",
    "    실행할 코드\n",
    "  ```\n",
    "- 반복 횟수가 명확하지 않을 때 자주 쓰임\n",
    "- 무한 루프에 빠지지 않도록 주의"
   ]
  },
  {
   "cell_type": "code",
   "execution_count": 1,
   "id": "fc654c15",
   "metadata": {
    "colab": {
     "base_uri": "https://localhost:8080/"
    },
    "executionInfo": {
     "elapsed": 288,
     "status": "ok",
     "timestamp": 1737686668643,
     "user": {
      "displayName": "Kim InSeop",
      "userId": "13965062148001194946"
     },
     "user_tz": -540
    },
    "id": "fc654c15",
    "outputId": "8208d982-19e2-4aa2-c188-0046ceff24e4"
   },
   "outputs": [
    {
     "name": "stdout",
     "output_type": "stream",
     "text": [
      "반복: 0\n",
      "반복: 1\n",
      "반복: 2\n"
     ]
    }
   ],
   "source": [
    "count = 0\n",
    "while count < 3:\n",
    "    print('반복:', count)\n",
    "    count += 1"
   ]
  },
  {
   "cell_type": "code",
   "execution_count": 2,
   "id": "cc4abfb3",
   "metadata": {
    "id": "cc4abfb3"
   },
   "outputs": [],
   "source": [
    "# 조건 미충족시에는 실행되지 않음\n",
    "count = 10\n",
    "while count < 3:\n",
    "    print('이 코드는 실행되지 않습니다.')"
   ]
  },
  {
   "cell_type": "markdown",
   "id": "a979c3d4-deb0-409a-a787-d7fae31e57e8",
   "metadata": {},
   "source": [
    "## **[2] 사용 예제**"
   ]
  },
  {
   "cell_type": "code",
   "execution_count": 3,
   "id": "5c9555d2-8292-440a-8499-a28be9be6b1b",
   "metadata": {},
   "outputs": [
    {
     "name": "stdout",
     "output_type": "stream",
     "text": [
      "문장을 입력하세요 (종료하려면 \"종료\" 입력):  종료\n"
     ]
    },
    {
     "name": "stdout",
     "output_type": "stream",
     "text": [
      "프로그램을 종료합니다\n"
     ]
    }
   ],
   "source": [
    "# '종료'를 입력해야 종료\n",
    "while True:\n",
    "    text = input('문장을 입력하세요 (종료하려면 \"종료\" 입력): ')\n",
    "    if text == '종료':\n",
    "        print('프로그램을 종료합니다')\n",
    "        break\n",
    "    print(f'입력한 문장: {text}')"
   ]
  },
  {
   "cell_type": "code",
   "execution_count": 4,
   "id": "14b4e61e-b139-4183-8d27-45612f54decc",
   "metadata": {},
   "outputs": [
    {
     "name": "stdout",
     "output_type": "stream",
     "text": [
      "사과\n",
      "바나나\n",
      "포도\n",
      "오렌지\n"
     ]
    }
   ],
   "source": [
    "# for문처럼 사용\n",
    "fruits = ['사과', '바나나', '포도', '오렌지']\n",
    "i = 0\n",
    "\n",
    "while i < len(fruits):\n",
    "    print(fruits[i])\n",
    "    i += 1"
   ]
  },
  {
   "cell_type": "code",
   "execution_count": 5,
   "id": "ebfe8176-3d95-4a88-9c5a-c88394d34ec8",
   "metadata": {},
   "outputs": [
    {
     "name": "stdout",
     "output_type": "stream",
     "text": [
      "1\n",
      "3\n",
      "5\n",
      "7\n",
      "9\n"
     ]
    }
   ],
   "source": [
    "# 홀수만 출력하기\n",
    "num = 0\n",
    "while num < 10:\n",
    "    num += 1\n",
    "    if num % 2 == 0:\n",
    "        continue # 다음 루프로 넘어가기\n",
    "    print(num)"
   ]
  },
  {
   "cell_type": "code",
   "execution_count": 6,
   "id": "3a06e335-8021-4251-9529-e8de24490fef",
   "metadata": {},
   "outputs": [
    {
     "name": "stdout",
     "output_type": "stream",
     "text": [
      "   *   \n",
      "  ***  \n",
      " ***** \n",
      "*******\n",
      "*******\n",
      " ***** \n",
      "  ***  \n",
      "   *   \n"
     ]
    }
   ],
   "source": [
    "# 별찍기\n",
    "star_count = 0\n",
    "while star_count < 8:\n",
    "    star_count += 1\n",
    "    if star_count % 2 == 0:\n",
    "        continue\n",
    "        \n",
    "    star = star_count\n",
    "    blank = int((7 - star_count) / 2)\n",
    "    print(' ' * blank, '*' * star_count, ' ' * blank, sep='')\n",
    "\n",
    "# 거꾸로\n",
    "star_count = 8\n",
    "while star_count > 0:\n",
    "    star_count -= 1\n",
    "    if star_count % 2 == 0:\n",
    "        continue\n",
    "        \n",
    "    star = star_count\n",
    "    blank = int((7 - star_count) / 2)\n",
    "    print(' ' * blank, '*' * star_count, ' ' * blank, sep='')"
   ]
  },
  {
   "cell_type": "code",
   "execution_count": 8,
   "id": "edc8704c-aab1-40de-8f21-12946dca4b98",
   "metadata": {},
   "outputs": [
    {
     "name": "stdout",
     "output_type": "stream",
     "text": [
      "숫자 입력 (1 ~ 100):  50\n"
     ]
    },
    {
     "name": "stdout",
     "output_type": "stream",
     "text": [
      "Up\n"
     ]
    },
    {
     "name": "stdout",
     "output_type": "stream",
     "text": [
      "숫자 입력 (1 ~ 100):  75\n"
     ]
    },
    {
     "name": "stdout",
     "output_type": "stream",
     "text": [
      "Up\n"
     ]
    },
    {
     "name": "stdout",
     "output_type": "stream",
     "text": [
      "숫자 입력 (1 ~ 100):  90\n"
     ]
    },
    {
     "name": "stdout",
     "output_type": "stream",
     "text": [
      "Down\n"
     ]
    },
    {
     "name": "stdout",
     "output_type": "stream",
     "text": [
      "숫자 입력 (1 ~ 100):  80\n"
     ]
    },
    {
     "name": "stdout",
     "output_type": "stream",
     "text": [
      "Up\n"
     ]
    },
    {
     "name": "stdout",
     "output_type": "stream",
     "text": [
      "숫자 입력 (1 ~ 100):  85\n"
     ]
    },
    {
     "name": "stdout",
     "output_type": "stream",
     "text": [
      "Up\n"
     ]
    },
    {
     "name": "stdout",
     "output_type": "stream",
     "text": [
      "숫자 입력 (1 ~ 100):  88\n"
     ]
    },
    {
     "name": "stdout",
     "output_type": "stream",
     "text": [
      "Up\n"
     ]
    },
    {
     "name": "stdout",
     "output_type": "stream",
     "text": [
      "숫자 입력 (1 ~ 100):  89\n"
     ]
    },
    {
     "name": "stdout",
     "output_type": "stream",
     "text": [
      "정답\n"
     ]
    }
   ],
   "source": [
    "# 숫자 맞추기, 정답을 맞출때까지 진행\n",
    "import random\n",
    "number = random.randint(1, 100)\n",
    "\n",
    "while True:\n",
    "    guess = int(input('숫자 입력 (1 ~ 100): '))\n",
    "    if number == guess:\n",
    "        print('정답')\n",
    "        break\n",
    "    elif number > guess:\n",
    "        print('Up')\n",
    "    else:\n",
    "        print('Down')"
   ]
  }
 ],
 "metadata": {
  "colab": {
   "collapsed_sections": [
    "1b084797"
   ],
   "provenance": []
  },
  "kernelspec": {
   "display_name": "Python 3 (ipykernel)",
   "language": "python",
   "name": "python3"
  },
  "language_info": {
   "codemirror_mode": {
    "name": "ipython",
    "version": 3
   },
   "file_extension": ".py",
   "mimetype": "text/x-python",
   "name": "python",
   "nbconvert_exporter": "python",
   "pygments_lexer": "ipython3",
   "version": "3.13.5"
  }
 },
 "nbformat": 4,
 "nbformat_minor": 5
}
