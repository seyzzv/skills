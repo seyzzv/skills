{
 "cells": [
  {
   "cell_type": "markdown",
   "id": "6c5d6413",
   "metadata": {
    "id": "6c5d6413"
   },
   "source": [
    "# 07. set (집합)\n",
    "---"
   ]
  },
  {
   "cell_type": "markdown",
   "id": "5709c373",
   "metadata": {
    "id": "5709c373"
   },
   "source": [
    "## **[1] 집합이란?**\n",
    "- 중복을 허용하지 않는 데이터 타입\n",
    "- 순서가 없어서 인덱스나 슬라이싱이 불가능"
   ]
  },
  {
   "cell_type": "code",
   "execution_count": 1,
   "id": "20c27094",
   "metadata": {},
   "outputs": [
    {
     "data": {
      "text/plain": [
       "set"
      ]
     },
     "execution_count": 1,
     "metadata": {},
     "output_type": "execute_result"
    }
   ],
   "source": [
    "set_1 = set()\n",
    "type(set_1)"
   ]
  },
  {
   "cell_type": "code",
   "execution_count": 2,
   "id": "25949bd0",
   "metadata": {
    "colab": {
     "base_uri": "https://localhost:8080/"
    },
    "executionInfo": {
     "elapsed": 308,
     "status": "ok",
     "timestamp": 1737683423105,
     "user": {
      "displayName": "Kim InSeop",
      "userId": "13965062148001194946"
     },
     "user_tz": -540
    },
    "id": "25949bd0",
    "outputId": "7174ff56-7a29-4765-d6ee-dae4b0605978"
   },
   "outputs": [
    {
     "name": "stdout",
     "output_type": "stream",
     "text": [
      "{'apple', 'cherry', 'banana'}\n"
     ]
    }
   ],
   "source": [
    "# 생성\n",
    "set_2 = {'apple', 'banana', 'cherry'}\n",
    "print(set_2)"
   ]
  },
  {
   "cell_type": "markdown",
   "id": "4dcfe26f",
   "metadata": {
    "id": "4dcfe26f"
   },
   "source": [
    "## **[2] 주요 함수**\n",
    "1. 값 추가: `add`\n",
    "2. 값 제거: `remove`, `discard`, `pop`\n",
    "3. 합집합, 교집합: `union`, `intersection`\n",
    "4. 차집합, 대칭차집합: `difference`, `symmetric_difference`\n",
    "5. 부분집합, 상위집합 확인: `issubset`, `issuperset`\n",
    "6. 모든 값 제거: `clear`"
   ]
  },
  {
   "cell_type": "markdown",
   "id": "ff5774e8",
   "metadata": {},
   "source": [
    "### **1. 값 추가**\n",
    "### **`x.add(v)`**\n",
    "- x: 집합명\n",
    "- v: 추가할 값"
   ]
  },
  {
   "cell_type": "code",
   "execution_count": 3,
   "id": "663775fe",
   "metadata": {
    "id": "663775fe"
   },
   "outputs": [
    {
     "name": "stdout",
     "output_type": "stream",
     "text": [
      "추가 전:  {'apple', 'banana'}\n",
      "추가 후:  {'apple', 'cherry', 'banana'}\n"
     ]
    }
   ],
   "source": [
    "fruits = {'apple', 'banana'}\n",
    "print('추가 전: ', fruits)\n",
    "\n",
    "fruits.add('cherry')\n",
    "print('추가 후: ' , fruits)"
   ]
  },
  {
   "cell_type": "markdown",
   "id": "68d0d05c",
   "metadata": {
    "id": "68d0d05c"
   },
   "source": [
    "### **2. 값 제거**\n",
    "### **`x.remove(v)`**\n",
    "- x: 집합명\n",
    "- v: 제거할 값\n",
    "- 값이 없으면 에러 반환"
   ]
  },
  {
   "cell_type": "code",
   "execution_count": 4,
   "id": "e73f3189",
   "metadata": {
    "id": "e73f3189"
   },
   "outputs": [
    {
     "name": "stdout",
     "output_type": "stream",
     "text": [
      "제거 전:  {1, 2, 3}\n",
      "제거 후 : {1, 3}\n"
     ]
    }
   ],
   "source": [
    "num = {1, 2, 3}\n",
    "print('제거 전: ', num)\n",
    "\n",
    "num.remove(2)\n",
    "print('제거 후 :', num)"
   ]
  },
  {
   "cell_type": "markdown",
   "id": "3cd751de-2d5e-4cc5-b4f1-4144af32c2cc",
   "metadata": {},
   "source": [
    "### **`x.discard(v)`**\n",
    "- x: 집합명\n",
    "- v: 제거할 값\n",
    "- 값이 없어도 에러 발생하지 않음"
   ]
  },
  {
   "cell_type": "code",
   "execution_count": 5,
   "id": "e2a67280-f18a-4ed8-a9c7-44b574f76b58",
   "metadata": {},
   "outputs": [
    {
     "name": "stdout",
     "output_type": "stream",
     "text": [
      "제거 전:  {1, 2, 3}\n",
      "제거 후 : {1, 2}\n"
     ]
    }
   ],
   "source": [
    "num = {1, 2, 3}\n",
    "print('제거 전: ', num)\n",
    "\n",
    "num.discard(3)\n",
    "print('제거 후 :', num)"
   ]
  },
  {
   "cell_type": "markdown",
   "id": "e8acb256-010e-4f25-911f-8fb856eaa2eb",
   "metadata": {},
   "source": [
    "### **`x.pop()`**\n",
    "- x: 집합명\n",
    "- 임의의 값 제거 (어떤것이 제거될지 알 수 없음)"
   ]
  },
  {
   "cell_type": "code",
   "execution_count": 6,
   "id": "eb073c8e-47ea-4d61-a11b-b766f8aeb84e",
   "metadata": {},
   "outputs": [
    {
     "name": "stdout",
     "output_type": "stream",
     "text": [
      "제거 전:  {1, 2, 3}\n",
      "제거 후 : {2, 3}\n"
     ]
    }
   ],
   "source": [
    "num = {1, 2, 3}\n",
    "print('제거 전: ', num)\n",
    "\n",
    "num.pop()\n",
    "print('제거 후 :', num)"
   ]
  },
  {
   "cell_type": "markdown",
   "id": "6e7ebe8c",
   "metadata": {
    "id": "6e7ebe8c"
   },
   "source": [
    "### **3. 합집합, 교집합**\n",
    "### **`x.union(v)`, `x.intersection(v)`**\n",
    "- x: 집합명\n",
    "- v: 계산할 집합명"
   ]
  },
  {
   "cell_type": "code",
   "execution_count": 7,
   "id": "cced94d4",
   "metadata": {
    "id": "cced94d4"
   },
   "outputs": [
    {
     "name": "stdout",
     "output_type": "stream",
     "text": [
      "합집합:  {1, 2, 3, 4, 5}\n",
      "교집합:  {3}\n"
     ]
    }
   ],
   "source": [
    "set1 = {1, 2, 3}\n",
    "set2 = {3, 4, 5}\n",
    "\n",
    "set3 = set1.union(set2)\n",
    "set4 = set1.intersection(set2)\n",
    "\n",
    "print('합집합: ', set3)\n",
    "print('교집합: ', set4)"
   ]
  },
  {
   "cell_type": "code",
   "execution_count": 8,
   "id": "f534e42d-cef2-4f22-8b76-aed7e7ec5890",
   "metadata": {},
   "outputs": [
    {
     "name": "stdout",
     "output_type": "stream",
     "text": [
      "합집합:  {1, 2, 3, 4, 5}\n",
      "교집합:  {3}\n"
     ]
    }
   ],
   "source": [
    "# 이렇게도 표현 가능\n",
    "print('합집합: ', set1 | set2)\n",
    "print('교집합: ', set1 & set2)"
   ]
  },
  {
   "cell_type": "markdown",
   "id": "35cca26b-d666-4026-b13e-1faa3ea21f2f",
   "metadata": {},
   "source": [
    "### **4. 차집합, 대칭차집합**\n",
    "### **`x.difference(v)`, `x.symmetric_difference(v)`**\n",
    "- x: 집합명\n",
    "- v: 계산할 집합명"
   ]
  },
  {
   "cell_type": "code",
   "execution_count": 9,
   "id": "6ec427ab-aaa1-41e0-8ef7-a84c0d573721",
   "metadata": {},
   "outputs": [
    {
     "name": "stdout",
     "output_type": "stream",
     "text": [
      "차집합:  {1, 2}\n",
      "대칭차집합(겹치는것 제외):  {1, 2, 4, 5}\n"
     ]
    }
   ],
   "source": [
    "set1 = {1, 2, 3}\n",
    "set2 = {3, 4, 5}\n",
    "\n",
    "set3 = set1.difference(set2)\n",
    "set4 = set1.symmetric_difference(set2)\n",
    "\n",
    "print('차집합: ', set3)\n",
    "print('대칭차집합(겹치는것 제외): ', set4)"
   ]
  },
  {
   "cell_type": "code",
   "execution_count": 10,
   "id": "3ee18693-7806-4e6e-92b7-5c73a7c90058",
   "metadata": {},
   "outputs": [
    {
     "name": "stdout",
     "output_type": "stream",
     "text": [
      "차집합:  {1, 2}\n"
     ]
    }
   ],
   "source": [
    "# 이렇게도 표현 가능\n",
    "print('차집합: ', set1 - set2)"
   ]
  },
  {
   "cell_type": "markdown",
   "id": "d6992d52",
   "metadata": {
    "id": "d6992d52"
   },
   "source": [
    "### **5. 부분집합, 상위집합 확인**\n",
    "### **`x.issubset(v)`, `x.issuperset(v)`**\n",
    "- x: 집합명\n",
    "- v: 계산할 집합명\n",
    "- 결과값은 True 혹은 False로 반환됨"
   ]
  },
  {
   "cell_type": "code",
   "execution_count": 11,
   "id": "6a70d380",
   "metadata": {
    "id": "6a70d380"
   },
   "outputs": [
    {
     "name": "stdout",
     "output_type": "stream",
     "text": [
      "부분집합 확인:  True\n",
      "상위집합 확인:  True\n"
     ]
    }
   ],
   "source": [
    "set1 = {1, 2}\n",
    "set2 = {1, 2, 3}\n",
    "\n",
    "set3 = set1.issubset(set2)\n",
    "set4 = set2.issuperset(set1)\n",
    "\n",
    "print('부분집합 확인: ', set3)\n",
    "print('상위집합 확인: ', set4)"
   ]
  },
  {
   "cell_type": "markdown",
   "id": "c6ac1d07",
   "metadata": {
    "id": "c6ac1d07"
   },
   "source": [
    "### **6. 모든 값 제거**\n",
    "### **`x.clear()`**\n",
    "- x: 집합명"
   ]
  },
  {
   "cell_type": "code",
   "execution_count": 12,
   "id": "b2f24dc8",
   "metadata": {
    "id": "b2f24dc8"
   },
   "outputs": [
    {
     "data": {
      "text/plain": [
       "set()"
      ]
     },
     "execution_count": 12,
     "metadata": {},
     "output_type": "execute_result"
    }
   ],
   "source": [
    "fruits = {'apple', 'banana', 'cherry'}\n",
    "fruits.clear()\n",
    "fruits"
   ]
  }
 ],
 "metadata": {
  "colab": {
   "provenance": []
  },
  "kernelspec": {
   "display_name": ".venv",
   "language": "python",
   "name": "python3"
  },
  "language_info": {
   "codemirror_mode": {
    "name": "ipython",
    "version": 3
   },
   "file_extension": ".py",
   "mimetype": "text/x-python",
   "name": "python",
   "nbconvert_exporter": "python",
   "pygments_lexer": "ipython3",
   "version": "3.13.5"
  }
 },
 "nbformat": 4,
 "nbformat_minor": 5
}
