{
 "cells": [
  {
   "cell_type": "markdown",
   "id": "cb086571",
   "metadata": {
    "id": "cb086571"
   },
   "source": [
    "# 05. tuple (튜플)\n",
    "---"
   ]
  },
  {
   "cell_type": "markdown",
   "id": "76b3ad54",
   "metadata": {
    "id": "76b3ad54"
   },
   "source": [
    "## **[1] 튜플이란?**\n",
    "- <u>불변(Immutable)</u> 데이터 타입\n",
    "- 저장 순서를 유지하며, 중복을 허용함\n",
    "- 읽기 전용으로 수정, 삭제 불가"
   ]
  },
  {
   "cell_type": "code",
   "execution_count": 1,
   "id": "6e22d4cf",
   "metadata": {},
   "outputs": [
    {
     "data": {
      "text/plain": [
       "tuple"
      ]
     },
     "execution_count": 1,
     "metadata": {},
     "output_type": "execute_result"
    }
   ],
   "source": [
    "tp = ()\n",
    "type(tp)"
   ]
  },
  {
   "cell_type": "code",
   "execution_count": 2,
   "id": "cf6f7f8b",
   "metadata": {
    "id": "cf6f7f8b"
   },
   "outputs": [
    {
     "name": "stdout",
     "output_type": "stream",
     "text": [
      "()\n",
      "(1, 2, 3, 4, 5)\n",
      "(1, 'hello', 3.14, [2, 4, 6], {'key': 'value'})\n"
     ]
    }
   ],
   "source": [
    "# 생성\n",
    "tp_1 = ()\n",
    "tp_2 = (1, 2, 3, 4, 5)\n",
    "tp_3 = (1, 'hello', 3.14, [2, 4, 6], {'key': 'value'})\n",
    "\n",
    "print(tp_1)\n",
    "print(tp_2)\n",
    "print(tp_3)"
   ]
  },
  {
   "cell_type": "code",
   "execution_count": 3,
   "id": "0f39d7f4",
   "metadata": {
    "id": "0f39d7f4"
   },
   "outputs": [
    {
     "name": "stdout",
     "output_type": "stream",
     "text": [
      "apple\n",
      "cherry\n",
      "('apple', 'banana')\n",
      "('cherry', 'banana', 'apple')\n"
     ]
    }
   ],
   "source": [
    "fruits = ('apple', 'banana', 'cherry')\n",
    "\n",
    "# 인덱싱\n",
    "print(fruits[0])\n",
    "print(fruits[-1])\n",
    "\n",
    "# 슬라이싱\n",
    "print(fruits[:2])\n",
    "print(fruits[::-1])"
   ]
  },
  {
   "cell_type": "code",
   "execution_count": 4,
   "id": "37582dbc",
   "metadata": {
    "id": "37582dbc"
   },
   "outputs": [
    {
     "name": "stdout",
     "output_type": "stream",
     "text": [
      "apple\n",
      "banana\n",
      "cherry\n"
     ]
    }
   ],
   "source": [
    "# for를 사용한 출력\n",
    "fruits = ('apple', 'banana', 'cherry')\n",
    "\n",
    "for fruit in fruits:\n",
    "    print(fruit)"
   ]
  },
  {
   "cell_type": "code",
   "execution_count": 5,
   "id": "10b42cd8-59bf-426a-a14c-51baa2311183",
   "metadata": {},
   "outputs": [
    {
     "name": "stdout",
     "output_type": "stream",
     "text": [
      "(2, 4, 6, 8, 10)\n"
     ]
    }
   ],
   "source": [
    "# 1부터 10까지의 정수 중 짝수만 저장한 튜플\n",
    "print(tuple(range(2, 11, 2)))"
   ]
  },
  {
   "cell_type": "markdown",
   "id": "4d3d1aa9-65d2-495d-9d60-a8a6b4f5cb51",
   "metadata": {},
   "source": [
    "## **[2] 튜플 언패킹**\n",
    "- 튜플을 역으로 변수에 할당한다."
   ]
  },
  {
   "cell_type": "code",
   "execution_count": 6,
   "id": "5628dc54-6624-4b8f-894f-78d0de85354b",
   "metadata": {},
   "outputs": [
    {
     "name": "stdout",
     "output_type": "stream",
     "text": [
      "apple\n",
      "banana\n",
      "cherry\n"
     ]
    }
   ],
   "source": [
    "fruits = ('apple', 'banana', 'cherry')\n",
    "fruit_1, fruit_2, fruit_3 = fruits\n",
    "\n",
    "print(fruit_1)\n",
    "print(fruit_2)\n",
    "print(fruit_3)"
   ]
  },
  {
   "cell_type": "markdown",
   "id": "f4a9a981",
   "metadata": {
    "id": "f4a9a981"
   },
   "source": [
    "## **[2] 주요 함수**\n",
    "1. 요소 개수 카운팅: `count`\n",
    "2. 요소 인덱스 반환: `index`\n",
    "3. 요소를 하나의 문자열로 병합: `join`"
   ]
  },
  {
   "cell_type": "markdown",
   "id": "500506dc",
   "metadata": {},
   "source": [
    "### **1. 요소 개수 카운팅**\n",
    "### **`x.count(v)`**\n",
    "- x: 튜플명\n",
    "- v: 찾을 값"
   ]
  },
  {
   "cell_type": "code",
   "execution_count": 7,
   "id": "027e7ef7",
   "metadata": {
    "id": "027e7ef7"
   },
   "outputs": [
    {
     "name": "stdout",
     "output_type": "stream",
     "text": [
      "사과는  2 개\n"
     ]
    }
   ],
   "source": [
    "fruits = ('사과', '딸기', '바나나', '파인애플', '사과')\n",
    "cnt = fruits.count('사과')\n",
    "\n",
    "print('사과는 ', cnt, '개')"
   ]
  },
  {
   "cell_type": "markdown",
   "id": "061d3ff2",
   "metadata": {
    "id": "061d3ff2"
   },
   "source": [
    "### **2. 요소 인덱스 반환**\n",
    "### **`x.index(v)`**\n",
    "- x: 튜플명\n",
    "- v: 찾을 값"
   ]
  },
  {
   "cell_type": "code",
   "execution_count": 8,
   "id": "660709b9",
   "metadata": {
    "id": "660709b9"
   },
   "outputs": [
    {
     "name": "stdout",
     "output_type": "stream",
     "text": [
      "딸기의 인덱스:  1\n"
     ]
    }
   ],
   "source": [
    "fruits = ('사과', '딸기', '바나나', '파인애플', '사과')\n",
    "index = fruits.index('딸기')\n",
    "\n",
    "print('딸기의 인덱스: ', index)"
   ]
  },
  {
   "cell_type": "markdown",
   "id": "adcd84ac-9a6f-4a7c-9aaf-93cfe54bcb9a",
   "metadata": {},
   "source": [
    "### **3. 요소를 하나의 문자열로 병합**\n",
    "### **`' '.join(x)`**\n",
    "- x: 튜플명\n",
    "- 공백 연결문자를 삽입하여 하나의 문자열로 병합\n",
    "- 문자형으로 반환"
   ]
  },
  {
   "cell_type": "code",
   "execution_count": 9,
   "id": "158f63de-9c2c-4918-9ab5-b119ab39c9a8",
   "metadata": {},
   "outputs": [
    {
     "name": "stdout",
     "output_type": "stream",
     "text": [
      "원본:  ('a', 'b', 'c', 'd', 'e')\n",
      "변환 후:  a b c d e\n",
      "변환 후 타입:  <class 'str'>\n"
     ]
    }
   ],
   "source": [
    "str_1 = ('a', 'b', 'c', 'd', 'e')\n",
    "str_2 = ' '.join(str_1)\n",
    "\n",
    "print('원본: ', str_1)\n",
    "print('변환 후: ', str_2)\n",
    "print('변환 후 타입: ', type(str_2))"
   ]
  },
  {
   "cell_type": "markdown",
   "id": "81a4f6a6-e2bc-4ca3-8591-f2615e16a511",
   "metadata": {},
   "source": [
    "## **[4] 튜플과 lambda**\n",
    "### **`key=lambda 인자: 표현식`**"
   ]
  },
  {
   "cell_type": "code",
   "execution_count": 10,
   "id": "595be693-f897-4e33-896a-06056c5832b3",
   "metadata": {},
   "outputs": [
    {
     "name": "stdout",
     "output_type": "stream",
     "text": [
      "('e', -9)\n",
      "('a', 1)\n",
      "('b', 7)\n",
      "('e', -9)\n"
     ]
    }
   ],
   "source": [
    "# 5개의 튜플을 요소로 갖는 하나의 튜플\n",
    "# 각 요소는 2개의 값으로 구성되어 있음 (다중 튜플)\n",
    "ex = (('a', 1), ('b',7), ('c', 3), ('d', -5), ('e', -9))\n",
    "\n",
    "# 튜플의 첫번째 요소로 전체에서 max/min값 찾기\n",
    "# 튜플의 첫번째 요소: ('a', 1) 에서 'a'\n",
    "print(max(ex, key=lambda x: x[0]))\n",
    "print(min(ex, key=lambda x: x[0]))\n",
    "\n",
    "# 튜플의 두번째 요소로 전체에서 max/main값 찾기\n",
    "# 튜플의 두번째 요소: ('a', 1) 에서 1\n",
    "print(max(ex, key=lambda x: x[1]))\n",
    "print(min(ex, key=lambda x: x[1]))"
   ]
  },
  {
   "cell_type": "code",
   "execution_count": 11,
   "id": "4b0830ce-c40b-4865-b878-131da431cf90",
   "metadata": {},
   "outputs": [
    {
     "name": "stdout",
     "output_type": "stream",
     "text": [
      "('e', -9)\n",
      "('a', 1)\n"
     ]
    }
   ],
   "source": [
    "ex = (('a', 1), ('b',7), ('c', 3), ('d', -5), ('e', -9))\n",
    "\n",
    "# 두번째 요소의 절댓값을 기준으로 최댓값 탐색\n",
    "print(max(ex, key=lambda x: abs(x[1])))\n",
    "\n",
    "# 두번째 요소의 절댓값을 기준으로 최솟값 탐색\n",
    "print(min(ex, key=lambda x: abs(x[1])))"
   ]
  },
  {
   "cell_type": "code",
   "execution_count": 12,
   "id": "5d848356-4fd6-4d78-8d21-99edcec43d3d",
   "metadata": {},
   "outputs": [
    {
     "name": "stdout",
     "output_type": "stream",
     "text": [
      "[('e', -9), ('d', -5), ('a', 1), ('c', 3), ('b', 7)]\n",
      "[('b', 7), ('c', 3), ('a', 1), ('d', -5), ('e', -9)]\n",
      "[('a', 1), ('c', 3), ('d', -5), ('b', 7), ('e', -9)]\n"
     ]
    }
   ],
   "source": [
    "tp_ex = (('a', 1), ('b',7), ('c', 3), ('d', -5), ('e', -9))\n",
    "\n",
    "# 리스트에 적용\n",
    "ls_ex = list(tp_ex)\n",
    "\n",
    "# 두번째 요소(숫자)를 기준으로 오름차순 정렬\n",
    "print(sorted(ls_ex, key=lambda x: x[1]))\n",
    "\n",
    "# 두번째 요소(숫자)를 기준으로 내림차순 정렬\n",
    "print(sorted(ls_ex, key=lambda x: x[1], reverse=True))\n",
    "\n",
    "# 두번째 요소(숫자)를 기준으로 절댓값순 정렬\n",
    "print(sorted(ls_ex, key=lambda x: abs(x[1])))"
   ]
  },
  {
   "cell_type": "code",
   "execution_count": 13,
   "id": "f1589fa6-30c2-4dc1-80b1-c3189613e830",
   "metadata": {},
   "outputs": [
    {
     "data": {
      "text/plain": [
       "[('c', [8, 11, 91, 1]),\n",
       " ('e', [38, 19, 47, 2]),\n",
       " ('d', [10, 56, 23, 6]),\n",
       " ('b', [5, 2, 19, 2]),\n",
       " ('a', [1, 10, 2, 2])]"
      ]
     },
     "execution_count": 13,
     "metadata": {},
     "output_type": "execute_result"
    }
   ],
   "source": [
    "# 2번째 요소의 평균 값을 기준으로 내림차순 정렬하여 출력\n",
    "tp_ex = (('a', [1, 10, 2, 2]), ('b', [5, 2, 19, 2]), ('c', [8, 11, 91, 1]), ('d', [10, 56, 23, 6]), ('e', [38, 19, 47, 2]))\n",
    "sorted(tp_ex, key=lambda x: sum(x[1]) / len(x[1]), reverse=True)"
   ]
  }
 ],
 "metadata": {
  "colab": {
   "provenance": []
  },
  "kernelspec": {
   "display_name": ".venv",
   "language": "python",
   "name": "python3"
  },
  "language_info": {
   "codemirror_mode": {
    "name": "ipython",
    "version": 3
   },
   "file_extension": ".py",
   "mimetype": "text/x-python",
   "name": "python",
   "nbconvert_exporter": "python",
   "pygments_lexer": "ipython3",
   "version": "3.13.5"
  }
 },
 "nbformat": 4,
 "nbformat_minor": 5
}
