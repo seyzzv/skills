{
 "cells": [
  {
   "cell_type": "markdown",
   "id": "cdfdf8e9",
   "metadata": {
    "id": "cdfdf8e9"
   },
   "source": [
    "# 14. try except (예외처리)\n",
    "---"
   ]
  },
  {
   "cell_type": "markdown",
   "id": "247392b1",
   "metadata": {
    "id": "247392b1"
   },
   "source": [
    "## **[1] 기본 구조**\n",
    "```python\n",
    "try:\n",
    "    실행할 코드\n",
    "except 예외종류:\n",
    "    예외 발생 시 실행할 코드\n",
    "```\n",
    "- try: 오류가 발생할 가능성이 있는 코드를 작성\n",
    "- except: 오류 발생 시 실행할 코드를 작성"
   ]
  },
  {
   "cell_type": "code",
   "execution_count": 1,
   "id": "1e77cd51",
   "metadata": {
    "colab": {
     "base_uri": "https://localhost:8080/"
    },
    "executionInfo": {
     "elapsed": 2912,
     "status": "ok",
     "timestamp": 1743660181944,
     "user": {
      "displayName": "Kim InSeop",
      "userId": "13965062148001194946"
     },
     "user_tz": -540
    },
    "id": "1e77cd51",
    "outputId": "7393684f-e118-4976-e64c-048cbed3de73"
   },
   "outputs": [
    {
     "name": "stdout",
     "output_type": "stream",
     "text": [
      "숫자를 입력하세요:  a\n"
     ]
    },
    {
     "name": "stdout",
     "output_type": "stream",
     "text": [
      "올바른 숫자를 입력해주세요.\n"
     ]
    }
   ],
   "source": [
    "try:\n",
    "    num = int(input('숫자를 입력하세요: '))\n",
    "    print(f'입력한 숫자는 {num}입니다.')\n",
    "except:\n",
    "    print('올바른 숫자를 입력해주세요.')"
   ]
  },
  {
   "cell_type": "markdown",
   "id": "a7f58306-e926-43a8-94c3-138b7fde7cc4",
   "metadata": {},
   "source": [
    "## **[2] 오류명 출력**\n",
    "```python\n",
    "try:\n",
    "    실행할 코드\n",
    "except Exception as e:\n",
    "    print(e)\n",
    "```"
   ]
  },
  {
   "cell_type": "code",
   "execution_count": 2,
   "id": "2833df24-fad6-4150-8b77-bd0facc7912f",
   "metadata": {},
   "outputs": [
    {
     "name": "stdout",
     "output_type": "stream",
     "text": [
      "6 is not in list\n"
     ]
    }
   ],
   "source": [
    "a = [1,2,3,4,5]\n",
    "b = 6\n",
    "\n",
    "try:\n",
    "    print(a.index(b))\n",
    "except Exception as e:\n",
    "    print(e)"
   ]
  },
  {
   "cell_type": "markdown",
   "id": "1c7c91e3",
   "metadata": {
    "id": "1c7c91e3"
   },
   "source": [
    "## **[3] 다중 except**\n",
    "- 에러 종류에 따른 처리가 가능"
   ]
  },
  {
   "cell_type": "markdown",
   "id": "5366b68b",
   "metadata": {
    "id": "5366b68b"
   },
   "source": [
    "**에러 종류**\n",
    "1. `ValueError`: 잘못된 값 입력\n",
    "2. `ZeroDivisionError`: 0으로 나누려고 할 때 발생\n",
    "3. `FileNotFoundError`: 파일이 존재하지 않을 때 발생\n",
    "4. `KeyError`: 딕셔너리에서 존재하지 않는 키를 참조할 때 발생\n",
    "5. `IndexError`: 리스트의 잘못된 인덱스를 참조할 때 발생"
   ]
  },
  {
   "cell_type": "code",
   "execution_count": 3,
   "id": "9dab5ce8",
   "metadata": {
    "colab": {
     "base_uri": "https://localhost:8080/"
    },
    "executionInfo": {
     "elapsed": 5861,
     "status": "ok",
     "timestamp": 1743660338068,
     "user": {
      "displayName": "Kim InSeop",
      "userId": "13965062148001194946"
     },
     "user_tz": -540
    },
    "id": "9dab5ce8",
    "outputId": "d1b939b3-0a5d-42a9-fd07-b237303550fe"
   },
   "outputs": [
    {
     "name": "stdout",
     "output_type": "stream",
     "text": [
      "숫자를 입력하세요:  a\n"
     ]
    },
    {
     "name": "stdout",
     "output_type": "stream",
     "text": [
      "숫자를 입력해야 합니다.\n"
     ]
    }
   ],
   "source": [
    "try:\n",
    "    x = int(input('숫자를 입력하세요: '))\n",
    "    result = 10 / x\n",
    "    print(f'결과: {result}')\n",
    "except ValueError:\n",
    "    print('숫자를 입력해야 합니다.')"
   ]
  },
  {
   "cell_type": "code",
   "execution_count": 4,
   "id": "f281b8f9-9808-46b6-b23d-c9f5137baea4",
   "metadata": {},
   "outputs": [
    {
     "name": "stdout",
     "output_type": "stream",
     "text": [
      "숫자를 입력하세요:  0\n"
     ]
    },
    {
     "name": "stdout",
     "output_type": "stream",
     "text": [
      "0으로 나눌 수 없습니다.\n"
     ]
    }
   ],
   "source": [
    "try:\n",
    "    x = int(input('숫자를 입력하세요: '))\n",
    "    result = 10 / x\n",
    "    print(f'결과: {result}')\n",
    "except ZeroDivisionError:\n",
    "    print('0으로 나눌 수 없습니다.')"
   ]
  },
  {
   "cell_type": "markdown",
   "id": "9b14ec43-a3a5-4229-ba0d-f582987e8ae1",
   "metadata": {},
   "source": [
    "## **[4] else, finally**\n",
    "```python\n",
    "try: \n",
    "    실행할 코드\n",
    "except Exception as e:\n",
    "    print(e)\n",
    "else:\n",
    "    오류가 없을 때만 수행할 코드\n",
    "    ...\n",
    "```"
   ]
  },
  {
   "cell_type": "code",
   "execution_count": 5,
   "id": "6ba89ff0-156b-470f-9213-4772192ce5da",
   "metadata": {},
   "outputs": [
    {
     "name": "stdout",
     "output_type": "stream",
     "text": [
      "정수입력:  a\n"
     ]
    },
    {
     "name": "stdout",
     "output_type": "stream",
     "text": [
      "invalid literal for int() with base 10: 'a'\n"
     ]
    }
   ],
   "source": [
    "try:\n",
    "    a = int(input('정수입력: '))\n",
    "except Exception as e:\n",
    "    print(e)\n",
    "else:\n",
    "    print(a)"
   ]
  },
  {
   "cell_type": "code",
   "execution_count": 8,
   "id": "213ad853-ecaf-4e0e-8d90-048fdb665bc4",
   "metadata": {},
   "outputs": [
    {
     "name": "stdout",
     "output_type": "stream",
     "text": [
      "정수입력:  1\n"
     ]
    },
    {
     "name": "stdout",
     "output_type": "stream",
     "text": [
      "1\n"
     ]
    }
   ],
   "source": [
    "try:\n",
    "    a = int(input('정수입력: '))\n",
    "except Exception as e:\n",
    "    print(e)\n",
    "else:\n",
    "    print(a)"
   ]
  },
  {
   "cell_type": "markdown",
   "id": "cf67b751-05dc-408d-a69b-52f6685959dd",
   "metadata": {},
   "source": [
    "```python\n",
    "try:\n",
    "    실행할 코드\n",
    "finally:\n",
    "    오류가 나더라도 수행할 코드\n",
    "```"
   ]
  },
  {
   "cell_type": "code",
   "execution_count": 7,
   "id": "73d7b8a7-24ce-477a-bc26-3284c8c98b89",
   "metadata": {},
   "outputs": [
    {
     "name": "stdout",
     "output_type": "stream",
     "text": [
      "불가능\n"
     ]
    },
    {
     "ename": "ZeroDivisionError",
     "evalue": "division by zero",
     "output_type": "error",
     "traceback": [
      "\u001b[31m---------------------------------------------------------------------------\u001b[39m",
      "\u001b[31mZeroDivisionError\u001b[39m                         Traceback (most recent call last)",
      "\u001b[36mCell\u001b[39m\u001b[36m \u001b[39m\u001b[32mIn[7]\u001b[39m\u001b[32m, line 2\u001b[39m\n\u001b[32m      1\u001b[39m \u001b[38;5;28;01mtry\u001b[39;00m:\n\u001b[32m----> \u001b[39m\u001b[32m2\u001b[39m     \u001b[32;43m1\u001b[39;49m\u001b[43m/\u001b[49m\u001b[32;43m0\u001b[39;49m\n\u001b[32m      3\u001b[39m \u001b[38;5;28;01mfinally\u001b[39;00m:\n\u001b[32m      4\u001b[39m     \u001b[38;5;28mprint\u001b[39m(\u001b[33m'\u001b[39m\u001b[33m불가능\u001b[39m\u001b[33m'\u001b[39m)\n",
      "\u001b[31mZeroDivisionError\u001b[39m: division by zero"
     ]
    }
   ],
   "source": [
    "try:\n",
    "    1/0\n",
    "finally:\n",
    "    print('불가능')"
   ]
  }
 ],
 "metadata": {
  "colab": {
   "provenance": []
  },
  "kernelspec": {
   "display_name": "Python 3 (ipykernel)",
   "language": "python",
   "name": "python3"
  },
  "language_info": {
   "codemirror_mode": {
    "name": "ipython",
    "version": 3
   },
   "file_extension": ".py",
   "mimetype": "text/x-python",
   "name": "python",
   "nbconvert_exporter": "python",
   "pygments_lexer": "ipython3",
   "version": "3.13.5"
  }
 },
 "nbformat": 4,
 "nbformat_minor": 5
}
