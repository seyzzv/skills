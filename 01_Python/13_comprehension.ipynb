{
 "cells": [
  {
   "cell_type": "markdown",
   "metadata": {
    "id": "qlTKtUuMwlv3"
   },
   "source": [
    "# 13. comprehension\n",
    "---"
   ]
  },
  {
   "cell_type": "markdown",
   "metadata": {
    "id": "V93ICRY_wt39"
   },
   "source": [
    "## **[1] List Comprehenshion**\n",
    "### **`[표현식 for 항목 in 반복가능객체 if 조건문]`**\n",
    "- 리스트 안에 `for`문을 포함하여 한 줄로 편하게 코드를 작성할 수 있게 하는 문법"
   ]
  },
  {
   "cell_type": "code",
   "execution_count": 1,
   "metadata": {
    "colab": {
     "base_uri": "https://localhost:8080/"
    },
    "executionInfo": {
     "elapsed": 328,
     "status": "ok",
     "timestamp": 1686525829551,
     "user": {
      "displayName": "Su hyoun Hwang",
      "userId": "18251724136768394181"
     },
     "user_tz": -540
    },
    "id": "KsuXkfQSv1f7",
    "outputId": "82f8544e-c3e6-4426-d5b1-7333c4e9f89b"
   },
   "outputs": [
    {
     "name": "stdout",
     "output_type": "stream",
     "text": [
      "[1, 2, 3, 4]\n",
      "[1, 2, 3, 4]\n"
     ]
    }
   ],
   "source": [
    "list_1 = []\n",
    "for i in range(1, 5):\n",
    "    list_1.append(i)\n",
    "print(list_1)\n",
    "\n",
    "# List Comprehenshion\n",
    "list_2 = [i for i in range(1, 5)]\n",
    "print(list_2)"
   ]
  },
  {
   "cell_type": "code",
   "execution_count": 2,
   "metadata": {
    "colab": {
     "base_uri": "https://localhost:8080/"
    },
    "executionInfo": {
     "elapsed": 4,
     "status": "ok",
     "timestamp": 1686525860910,
     "user": {
      "displayName": "Su hyoun Hwang",
      "userId": "18251724136768394181"
     },
     "user_tz": -540
    },
    "id": "zN9t4s3fxg8o",
    "outputId": "c5b888f2-9177-4f80-8aeb-010feec255cc"
   },
   "outputs": [
    {
     "name": "stdout",
     "output_type": "stream",
     "text": [
      "[2, 4]\n",
      "[2, 4]\n"
     ]
    }
   ],
   "source": [
    "list_3 = []\n",
    "for i in range(1, 5):\n",
    "    if i % 2 == 0:\n",
    "        list_3.append(i)\n",
    "print(list_3)\n",
    "\n",
    "# List Comprehenshion\n",
    "list_4 = [i for i in range(1, 5) if i % 2 == 0]\n",
    "print(list_4)"
   ]
  },
  {
   "cell_type": "code",
   "execution_count": 3,
   "metadata": {
    "colab": {
     "base_uri": "https://localhost:8080/"
    },
    "executionInfo": {
     "elapsed": 4,
     "status": "ok",
     "timestamp": 1686525892799,
     "user": {
      "displayName": "Su hyoun Hwang",
      "userId": "18251724136768394181"
     },
     "user_tz": -540
    },
    "id": "BeKjnM4Zxq5b",
    "outputId": "ad79dc00-5b08-4aad-a057-22dfaf636f7e"
   },
   "outputs": [
    {
     "name": "stdout",
     "output_type": "stream",
     "text": [
      "[8, 16]\n",
      "[8, 16]\n"
     ]
    }
   ],
   "source": [
    "list_5 = []\n",
    "for i in range(1, 5):\n",
    "    if i % 2 == 0:\n",
    "        list_5.append(i * 4)\n",
    "print(list_5)\n",
    "\n",
    "# List Comprehenshion\n",
    "list_6 = [i * 4 for i in range(1, 5) if i % 2 == 0]\n",
    "print(list_6)"
   ]
  },
  {
   "cell_type": "markdown",
   "metadata": {
    "id": "7JqpPABHyF6Y"
   },
   "source": [
    "- `for`문을 여러 개 사용하는 것도 가능하다.\n",
    "\n",
    "\n",
    "    [표현식 for 항목1 in 반복가능객체1 if 조건문1\n",
    "        for 항목2 in 반복가능객체2 if 조건문2\n",
    "        ...\n",
    "    ]"
   ]
  },
  {
   "cell_type": "code",
   "execution_count": 4,
   "metadata": {
    "colab": {
     "base_uri": "https://localhost:8080/"
    },
    "executionInfo": {
     "elapsed": 5,
     "status": "ok",
     "timestamp": 1686526086835,
     "user": {
      "displayName": "Su hyoun Hwang",
      "userId": "18251724136768394181"
     },
     "user_tz": -540
    },
    "id": "z1_PftDQxvji",
    "outputId": "c3fc0cfa-cae6-4a52-b0a1-9559697fdcff"
   },
   "outputs": [
    {
     "name": "stdout",
     "output_type": "stream",
     "text": [
      "[2, 4, 3, 6, 4, 8, 5, 10, 6, 12, 7, 14, 8, 16, 9, 18]\n",
      "[2, 4, 3, 6, 4, 8, 5, 10, 6, 12, 7, 14, 8, 16, 9, 18]\n"
     ]
    }
   ],
   "source": [
    "list_7 = []\n",
    "for i in range(2, 10):\n",
    "    for j in range(1, 3):\n",
    "        list_7.append(i * j)\n",
    "print(list_7)\n",
    "\n",
    "# List Comprehenshion\n",
    "list_8 = [i * j for i in range(2, 10) for j in range(1, 3)]\n",
    "print(list_8)"
   ]
  },
  {
   "cell_type": "markdown",
   "metadata": {
    "id": "dnUxkTCuzhiq"
   },
   "source": [
    "## **[2] Dict comprehension**\n",
    "- 딕셔너리도 for문을 간편하게 이용할 수 있다."
   ]
  },
  {
   "cell_type": "code",
   "execution_count": 5,
   "metadata": {
    "colab": {
     "base_uri": "https://localhost:8080/"
    },
    "executionInfo": {
     "elapsed": 283,
     "status": "ok",
     "timestamp": 1686526941802,
     "user": {
      "displayName": "Su hyoun Hwang",
      "userId": "18251724136768394181"
     },
     "user_tz": -540
    },
    "id": "zTtcb3GeyhVq",
    "outputId": "45f218e0-b366-4975-aad1-8e41aca0fa6b"
   },
   "outputs": [
    {
     "name": "stdout",
     "output_type": "stream",
     "text": [
      "{'Merry': 1, 'John': 2, 'Chris': 3}\n",
      "{'Merry': 1, 'John': 2, 'Chris': 3}\n",
      "{'Merry': 5, 'John': 10, 'Chris': 15}\n",
      "{'Merry': 5, 'Chris': 15}\n"
     ]
    }
   ],
   "source": [
    "name = ['Merry', 'John', 'Chris']\n",
    "num = [1, 2, 3]\n",
    "\n",
    "# Dict comprehension\n",
    "dic_1 = {name[i]: num[i] for i in range(len(name))}\n",
    "print(dic_1)\n",
    "\n",
    "dic_2 = {k: v for k, v in zip(name, num)}\n",
    "print(dic_2)\n",
    "\n",
    "dic_3 = {k: v * 5 for k, v in zip(name, num)}\n",
    "print(dic_3)\n",
    "\n",
    "dic_4 = {k: v * 5 for k, v in zip(name, num) if v % 2 == 1}\n",
    "print(dic_4)"
   ]
  },
  {
   "cell_type": "markdown",
   "metadata": {
    "id": "zmpPDG162sBk"
   },
   "source": [
    "## **[3] 연습**"
   ]
  },
  {
   "cell_type": "markdown",
   "metadata": {
    "id": "gjeKVfJl2yuw"
   },
   "source": [
    "### 1. 1 ~ 1000까지 5의 배수의 합을 `list comprehension`을 통해 구하기."
   ]
  },
  {
   "cell_type": "code",
   "execution_count": 6,
   "metadata": {
    "colab": {
     "base_uri": "https://localhost:8080/"
    },
    "executionInfo": {
     "elapsed": 6,
     "status": "ok",
     "timestamp": 1686527333293,
     "user": {
      "displayName": "Su hyoun Hwang",
      "userId": "18251724136768394181"
     },
     "user_tz": -540
    },
    "id": "3vDLbe3P2qCu",
    "outputId": "8e01e3f0-b57c-4369-9481-1eab5d614a2b"
   },
   "outputs": [
    {
     "data": {
      "text/plain": [
       "100500"
      ]
     },
     "execution_count": 6,
     "metadata": {},
     "output_type": "execute_result"
    }
   ],
   "source": [
    "a = [i for i in range(1, 1001) if i % 5 == 0]\n",
    "sum(a)"
   ]
  },
  {
   "cell_type": "markdown",
   "metadata": {
    "id": "zgQQIre23OUv"
   },
   "source": [
    "### 2. 딕셔너리의 키와 값을 바꾸어 출력하기."
   ]
  },
  {
   "cell_type": "code",
   "execution_count": 7,
   "metadata": {
    "colab": {
     "base_uri": "https://localhost:8080/"
    },
    "executionInfo": {
     "elapsed": 5,
     "status": "ok",
     "timestamp": 1686527447735,
     "user": {
      "displayName": "Su hyoun Hwang",
      "userId": "18251724136768394181"
     },
     "user_tz": -540
    },
    "id": "ozSiT2_63NGt",
    "outputId": "3ed57310-47be-4730-c396-497263d23785"
   },
   "outputs": [
    {
     "name": "stdout",
     "output_type": "stream",
     "text": [
      "{'Merry': 1, 'John': 2, 'Chris': 3}\n"
     ]
    }
   ],
   "source": [
    "id_name = {1: 'Merry', 2: 'John', 3: 'Chris'}\n",
    "name_id = {v:k for k,v in id_name.items()}\n",
    "print(name_id)"
   ]
  },
  {
   "cell_type": "markdown",
   "metadata": {
    "id": "EkXq49YY3x9t"
   },
   "source": [
    "### 3. 리스트 안의 리스트를 하나의 리스트로 만들기.\n",
    "- [[1,2],[3,4],[5,6]] -> [1,2,3,4,5,6]"
   ]
  },
  {
   "cell_type": "code",
   "execution_count": 8,
   "metadata": {
    "id": "jZANLFNE3o2w"
   },
   "outputs": [
    {
     "name": "stdout",
     "output_type": "stream",
     "text": [
      "[100, 110, 70, 100, 200, 210, 180, 190, 300, 310, 300, 310]\n"
     ]
    }
   ],
   "source": [
    "ohlc = [[100, 110, 70, 100],\n",
    "        [200, 210, 180, 190],\n",
    "        [300, 310, 300, 310]]\n",
    "\n",
    "ls = [j for i in ohlc for j in i]\n",
    "print(ls)"
   ]
  },
  {
   "cell_type": "markdown",
   "metadata": {
    "id": "qdIwI_QP46yH"
   },
   "source": [
    "### 4. 리스트 요소의 빈도값을 `dict comprehension`을 사용하여 딕셔너리로 출력하기."
   ]
  },
  {
   "cell_type": "code",
   "execution_count": 9,
   "metadata": {
    "id": "aZXY9JBk4M7E"
   },
   "outputs": [
    {
     "name": "stdout",
     "output_type": "stream",
     "text": [
      "{'a': 2, 'b': 3, 'c': 4}\n"
     ]
    }
   ],
   "source": [
    "x = ['a','a','b','b','b','c','c','c','c']\n",
    "\n",
    "dic = {i:x.count(i) for i in set(x)}\n",
    "print(dic)"
   ]
  }
 ],
 "metadata": {
  "colab": {
   "provenance": [],
   "toc_visible": true
  },
  "kernelspec": {
   "display_name": ".venv",
   "language": "python",
   "name": "python3"
  },
  "language_info": {
   "codemirror_mode": {
    "name": "ipython",
    "version": 3
   },
   "file_extension": ".py",
   "mimetype": "text/x-python",
   "name": "python",
   "nbconvert_exporter": "python",
   "pygments_lexer": "ipython3",
   "version": "3.13.5"
  }
 },
 "nbformat": 4,
 "nbformat_minor": 4
}
