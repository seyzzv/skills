{
 "cells": [
  {
   "cell_type": "markdown",
   "id": "f4361a56",
   "metadata": {
    "id": "f4361a56"
   },
   "source": [
    "# 11. for (반복문)\n",
    "---"
   ]
  },
  {
   "cell_type": "markdown",
   "id": "def52bf5",
   "metadata": {
    "id": "def52bf5"
   },
   "source": [
    "## **[1] 기본 구조**\n",
    "```python\n",
    "for 변수 in 시퀀스:\n",
    "    실행할 코드\n",
    "```\n",
    "- 시퀀스: range(), 문자열, 리스트, 튜플과 같이 순서가 있는 데이터형\n",
    "- 정해진 횟수를 반복할때 자주 쓰임"
   ]
  },
  {
   "cell_type": "code",
   "execution_count": 1,
   "id": "48e9efa5",
   "metadata": {
    "id": "48e9efa5"
   },
   "outputs": [
    {
     "name": "stdout",
     "output_type": "stream",
     "text": [
      "hello world 0\n",
      "hello world 1\n",
      "hello world 2\n",
      "hello world 3\n",
      "hello world 4\n",
      "hello world 5\n",
      "hello world 6\n",
      "hello world 7\n",
      "hello world 8\n",
      "hello world 9\n"
     ]
    }
   ],
   "source": [
    "for i in range(10):\n",
    "    print('hello world', i)"
   ]
  },
  {
   "cell_type": "code",
   "execution_count": 2,
   "id": "1c391646",
   "metadata": {
    "colab": {
     "base_uri": "https://localhost:8080/"
    },
    "executionInfo": {
     "elapsed": 287,
     "status": "ok",
     "timestamp": 1737686616045,
     "user": {
      "displayName": "Kim InSeop",
      "userId": "13965062148001194946"
     },
     "user_tz": -540
    },
    "id": "1c391646",
    "outputId": "59f49cda-240e-408d-9a95-3b9ed1e358c4"
   },
   "outputs": [
    {
     "name": "stdout",
     "output_type": "stream",
     "text": [
      "P\n",
      "y\n",
      "t\n",
      "h\n",
      "o\n",
      "n\n"
     ]
    }
   ],
   "source": [
    "# 문자열 출력\n",
    "text = 'Python'\n",
    "for i in text:\n",
    "    print(i)"
   ]
  },
  {
   "cell_type": "code",
   "execution_count": 3,
   "id": "29cbcd5a",
   "metadata": {
    "colab": {
     "base_uri": "https://localhost:8080/"
    },
    "executionInfo": {
     "elapsed": 3,
     "status": "ok",
     "timestamp": 1743656823036,
     "user": {
      "displayName": "Kim InSeop",
      "userId": "13965062148001194946"
     },
     "user_tz": -540
    },
    "id": "29cbcd5a",
    "outputId": "61cc0b4f-90e1-4361-a1f7-e165988b103c"
   },
   "outputs": [
    {
     "name": "stdout",
     "output_type": "stream",
     "text": [
      "apple\n",
      "banana\n",
      "cherry\n"
     ]
    }
   ],
   "source": [
    "# 리스트 출력\n",
    "fruits = ['apple', 'banana', 'cherry']\n",
    "for fruit in fruits:\n",
    "    print(fruit)"
   ]
  },
  {
   "cell_type": "code",
   "execution_count": 4,
   "id": "eb3cbcd5-cd6a-44d8-8ca5-acd41f6cb242",
   "metadata": {},
   "outputs": [
    {
     "name": "stdout",
     "output_type": "stream",
     "text": [
      "1\n",
      "2\n",
      "3\n",
      "1, 2, 3\n"
     ]
    }
   ],
   "source": [
    "# 튜플 출력\n",
    "nums =(1, 2, 3)\n",
    "\n",
    "for i in nums :\n",
    "    print(i)\n",
    "\n",
    "for i in range(len(nums)):\n",
    "    # 마지막엔 쉼표 넣지 않기\n",
    "    if i < len(nums) - 1:\n",
    "        print(nums[i], end=', ')\n",
    "    else:\n",
    "        print(nums[i])"
   ]
  },
  {
   "cell_type": "code",
   "execution_count": 5,
   "id": "92b514d9-152a-4d10-9518-9e1f71dfba39",
   "metadata": {},
   "outputs": [
    {
     "name": "stdout",
     "output_type": "stream",
     "text": [
      "1 :  A\n",
      "2 :  B\n",
      "3 :  C\n"
     ]
    }
   ],
   "source": [
    "# 딕셔너리 출력\n",
    "dic = {1: 'A', 2: 'B', 3: 'C'}\n",
    "\n",
    "for k, v in dic.items():\n",
    "    print(k, ': ', v)"
   ]
  },
  {
   "cell_type": "code",
   "execution_count": 6,
   "id": "071b22db-6ee5-49c2-b50f-902c3f30ef44",
   "metadata": {},
   "outputs": [
    {
     "name": "stdout",
     "output_type": "stream",
     "text": [
      "* 2 단 *\n",
      "2  X  1  =  2\n",
      "2  X  2  =  4\n",
      "2  X  3  =  6\n",
      "2  X  4  =  8\n",
      "2  X  5  =  10\n",
      "2  X  6  =  12\n",
      "2  X  7  =  14\n",
      "2  X  8  =  16\n",
      "2  X  9  =  18\n",
      "\n",
      "* 3 단 *\n",
      "3  X  1  =  3\n",
      "3  X  2  =  6\n",
      "3  X  3  =  9\n",
      "3  X  4  =  12\n",
      "3  X  5  =  15\n",
      "3  X  6  =  18\n",
      "3  X  7  =  21\n",
      "3  X  8  =  24\n",
      "3  X  9  =  27\n",
      "\n"
     ]
    }
   ],
   "source": [
    "# 구구단 출력 (2 ~ 3단만)\n",
    "for i in range(2, 4):\n",
    "    print('*', i, '단 *')\n",
    "    for j in range(1, 10):\n",
    "        print(i, ' X ', j, ' = ', i*j)\n",
    "    print('')"
   ]
  },
  {
   "cell_type": "code",
   "execution_count": 7,
   "id": "706dfd5a-a605-4cc3-837e-a7243e03a24f",
   "metadata": {},
   "outputs": [
    {
     "name": "stdout",
     "output_type": "stream",
     "text": [
      "H\n",
      "eH\n",
      "leH\n",
      "lleH\n",
      "olleH\n",
      ",olleH\n",
      " ,olleH\n",
      "P ,olleH\n",
      "yP ,olleH\n",
      "tyP ,olleH\n",
      "htyP ,olleH\n",
      "ohtyP ,olleH\n",
      "nohtyP ,olleH\n"
     ]
    }
   ],
   "source": [
    "# 역순 출력\n",
    "text_1 = 'Hello, Python'\n",
    "text_2 = ''\n",
    "for i in text_1:\n",
    "    text_2 = i + text_2\n",
    "    print(text_2)"
   ]
  },
  {
   "cell_type": "code",
   "execution_count": 8,
   "id": "957a31a1-f5a9-4b14-b03b-c6af25071577",
   "metadata": {},
   "outputs": [
    {
     "name": "stdout",
     "output_type": "stream",
     "text": [
      "숫자 입력 (1~100):  50\n"
     ]
    },
    {
     "name": "stdout",
     "output_type": "stream",
     "text": [
      "Down\n"
     ]
    },
    {
     "name": "stdout",
     "output_type": "stream",
     "text": [
      "숫자 입력 (1~100):  25\n"
     ]
    },
    {
     "name": "stdout",
     "output_type": "stream",
     "text": [
      "Down\n"
     ]
    },
    {
     "name": "stdout",
     "output_type": "stream",
     "text": [
      "숫자 입력 (1~100):  10\n"
     ]
    },
    {
     "name": "stdout",
     "output_type": "stream",
     "text": [
      "Up\n"
     ]
    },
    {
     "name": "stdout",
     "output_type": "stream",
     "text": [
      "숫자 입력 (1~100):  20\n"
     ]
    },
    {
     "name": "stdout",
     "output_type": "stream",
     "text": [
      "Up\n"
     ]
    },
    {
     "name": "stdout",
     "output_type": "stream",
     "text": [
      "숫자 입력 (1~100):  23\n"
     ]
    },
    {
     "name": "stdout",
     "output_type": "stream",
     "text": [
      "정답\n"
     ]
    }
   ],
   "source": [
    "# 숫자 맞추기\n",
    "import random\n",
    "number = random.randint(1, 100)\n",
    "\n",
    "for i in range(5):\n",
    "    guess = int(input('숫자 입력 (1~100): '))\n",
    "    if number > guess:\n",
    "        print('Up')\n",
    "    elif number < guess:\n",
    "        print('Down')\n",
    "    else:\n",
    "        print('정답')\n",
    "        break\n",
    "\n",
    "if number != guess:\n",
    "    print('GAME OVER, 정답: ', number)"
   ]
  },
  {
   "cell_type": "markdown",
   "id": "1aaf7f41",
   "metadata": {
    "id": "1aaf7f41"
   },
   "source": [
    "## **[2] 키워드**\n",
    "1. 반복문 즉시 종료: `break`\n",
    "2. 다음 반복으로 넘어가기: `continue`\n",
    "3. 아무 작업도 하지않고 반복문 유지: `pass`"
   ]
  },
  {
   "cell_type": "markdown",
   "id": "aeb4c90d-6a9b-4124-8f2f-c9e6e54db88a",
   "metadata": {},
   "source": [
    "### **1. 반복문 즉시 종료**\n",
    "### **`break`**"
   ]
  },
  {
   "cell_type": "code",
   "execution_count": 9,
   "id": "ac9a066d",
   "metadata": {
    "colab": {
     "base_uri": "https://localhost:8080/"
    },
    "executionInfo": {
     "elapsed": 4,
     "status": "ok",
     "timestamp": 1743656877831,
     "user": {
      "displayName": "Kim InSeop",
      "userId": "13965062148001194946"
     },
     "user_tz": -540
    },
    "id": "ac9a066d",
    "outputId": "9d9b51db-1ed9-4d8f-b874-d1cd74e4c647"
   },
   "outputs": [
    {
     "name": "stdout",
     "output_type": "stream",
     "text": [
      "0\n",
      "1\n",
      "2\n"
     ]
    }
   ],
   "source": [
    "for i in range(5):\n",
    "    if i == 3:\n",
    "        # 3에서 멈춤\n",
    "        break\n",
    "    print(i)"
   ]
  },
  {
   "cell_type": "markdown",
   "id": "00b7ddab",
   "metadata": {
    "id": "00b7ddab"
   },
   "source": [
    "### **2. 다음 반복으로 넘어가기**\n",
    "### **`continue`**\n",
    "- 현재 반복은 건너뜀"
   ]
  },
  {
   "cell_type": "code",
   "execution_count": 10,
   "id": "41e3b16b",
   "metadata": {
    "colab": {
     "base_uri": "https://localhost:8080/"
    },
    "executionInfo": {
     "elapsed": 5,
     "status": "ok",
     "timestamp": 1743656916919,
     "user": {
      "displayName": "Kim InSeop",
      "userId": "13965062148001194946"
     },
     "user_tz": -540
    },
    "id": "41e3b16b",
    "outputId": "2c5f271f-b8fe-4605-8319-eff1889b9849"
   },
   "outputs": [
    {
     "name": "stdout",
     "output_type": "stream",
     "text": [
      "0\n",
      "1\n",
      "2\n",
      "4\n",
      "5\n"
     ]
    }
   ],
   "source": [
    "for i in range(6):\n",
    "    if i == 3:\n",
    "        # 3을 건너뜀\n",
    "        continue\n",
    "    print(i)"
   ]
  },
  {
   "cell_type": "markdown",
   "id": "f72ade43",
   "metadata": {
    "id": "f72ade43"
   },
   "source": [
    "### **3. 아무 작업도 하지 않고 반복문 유지**\n",
    "### **`pass`**"
   ]
  },
  {
   "cell_type": "code",
   "execution_count": 11,
   "id": "1dd29a53",
   "metadata": {
    "colab": {
     "base_uri": "https://localhost:8080/"
    },
    "executionInfo": {
     "elapsed": 280,
     "status": "ok",
     "timestamp": 1737686838961,
     "user": {
      "displayName": "Kim InSeop",
      "userId": "13965062148001194946"
     },
     "user_tz": -540
    },
    "id": "1dd29a53",
    "outputId": "3721fd76-4995-4c21-f1d9-ab5fdc6d8634"
   },
   "outputs": [
    {
     "name": "stdout",
     "output_type": "stream",
     "text": [
      "0\n",
      "1\n",
      "2\n",
      "3\n",
      "4\n"
     ]
    }
   ],
   "source": [
    "for i in range(5):\n",
    "    if i == 3:\n",
    "        # 3이 되더라도 작업 없음\n",
    "        pass\n",
    "    print(i)"
   ]
  },
  {
   "cell_type": "markdown",
   "id": "d8ce7b67",
   "metadata": {
    "id": "d8ce7b67"
   },
   "source": [
    "## **[3] 주요 함수**\n",
    "1. 숫자 범위 생성: `range`\n",
    "2. 인덱스, 값 가져오기: `enumerate`\n",
    "3. 시퀀스 동시 순회: `zip`\n",
    "4. 역순회: `reversed`"
   ]
  },
  {
   "cell_type": "markdown",
   "id": "218aa077-ab8b-4a20-ae2e-38399e555341",
   "metadata": {},
   "source": [
    "### **1. 숫자 범위 생성**\n",
    "### **`range(start=, stop=, step=)`**\n",
    "- start: 시작값 (기본값: 0)\n",
    "- stop: 종료값 (미포함)\n",
    "- step: 생성 간격"
   ]
  },
  {
   "cell_type": "code",
   "execution_count": 12,
   "id": "b2e52a80",
   "metadata": {
    "colab": {
     "base_uri": "https://localhost:8080/"
    },
    "executionInfo": {
     "elapsed": 20,
     "status": "ok",
     "timestamp": 1743656979079,
     "user": {
      "displayName": "Kim InSeop",
      "userId": "13965062148001194946"
     },
     "user_tz": -540
    },
    "id": "b2e52a80",
    "outputId": "ec12a578-c7ba-4bc9-b83a-8bbe26af3537"
   },
   "outputs": [
    {
     "name": "stdout",
     "output_type": "stream",
     "text": [
      "1\n",
      "3\n",
      "5\n",
      "7\n",
      "9\n"
     ]
    }
   ],
   "source": [
    "for i in range(1, 10, 2):\n",
    "    print(i)"
   ]
  },
  {
   "cell_type": "markdown",
   "id": "d59c29db",
   "metadata": {
    "id": "d59c29db"
   },
   "source": [
    "### **2. 인덱스, 값 가져오기**\n",
    "### **`a, b in enumerate(v)`**\n",
    "- a: 인덱스 변수명\n",
    "- b: 값 변수명\n",
    "- v: 시퀀스명"
   ]
  },
  {
   "cell_type": "code",
   "execution_count": 13,
   "id": "993cff22",
   "metadata": {
    "colab": {
     "base_uri": "https://localhost:8080/"
    },
    "executionInfo": {
     "elapsed": 301,
     "status": "ok",
     "timestamp": 1737686901075,
     "user": {
      "displayName": "Kim InSeop",
      "userId": "13965062148001194946"
     },
     "user_tz": -540
    },
    "id": "993cff22",
    "outputId": "cc48061f-79cc-4cc9-cdbc-814661f85694"
   },
   "outputs": [
    {
     "name": "stdout",
     "output_type": "stream",
     "text": [
      "0 apple\n",
      "1 banana\n",
      "2 cherry\n"
     ]
    }
   ],
   "source": [
    "fruits = ['apple', 'banana', 'cherry']\n",
    "\n",
    "for index, fruit in enumerate(fruits):\n",
    "    print(index, fruit)"
   ]
  },
  {
   "cell_type": "markdown",
   "id": "5c8df33c",
   "metadata": {
    "id": "5c8df33c"
   },
   "source": [
    "### **3. 시퀀스 동시 순회**\n",
    "### **`a, b in zip(c, d)`**\n",
    "- a: 시퀀스1 변수명\n",
    "- b: 시퀀스2 변수명\n",
    "- c: 시퀀스1\n",
    "- d: 시퀀스2"
   ]
  },
  {
   "cell_type": "code",
   "execution_count": 14,
   "id": "1deb3bfa",
   "metadata": {
    "colab": {
     "base_uri": "https://localhost:8080/"
    },
    "executionInfo": {
     "elapsed": 284,
     "status": "ok",
     "timestamp": 1737686940320,
     "user": {
      "displayName": "Kim InSeop",
      "userId": "13965062148001194946"
     },
     "user_tz": -540
    },
    "id": "1deb3bfa",
    "outputId": "3d274e6b-3394-4166-c1ed-8f5e0bdd4287"
   },
   "outputs": [
    {
     "name": "stdout",
     "output_type": "stream",
     "text": [
      "name:  Alice \n",
      " age:  25\n",
      "name:  Bob \n",
      " age:  30\n",
      "name:  Charlie \n",
      " age:  35\n"
     ]
    }
   ],
   "source": [
    "names = ['Alice', 'Bob', 'Charlie']\n",
    "ages = [25, 30, 35]\n",
    "\n",
    "for name, age in zip(names, ages):\n",
    "    print('name: ', name, '\\n', 'age: ', age)"
   ]
  },
  {
   "cell_type": "markdown",
   "id": "bf27e993",
   "metadata": {
    "id": "bf27e993"
   },
   "source": [
    "### **4. 역순회**\n",
    "### **`reversed(a)`**\n",
    "- a: 순회할 시퀀스명\n",
    "- [::-1]과 동일한 기능"
   ]
  },
  {
   "cell_type": "code",
   "execution_count": 15,
   "id": "dc49a83e",
   "metadata": {
    "colab": {
     "base_uri": "https://localhost:8080/"
    },
    "executionInfo": {
     "elapsed": 4,
     "status": "ok",
     "timestamp": 1743657154839,
     "user": {
      "displayName": "Kim InSeop",
      "userId": "13965062148001194946"
     },
     "user_tz": -540
    },
    "id": "dc49a83e",
    "outputId": "648a91ec-90fd-4fd3-af5c-87de540a7710"
   },
   "outputs": [
    {
     "name": "stdout",
     "output_type": "stream",
     "text": [
      "5\n",
      "4\n",
      "3\n",
      "2\n",
      "1\n"
     ]
    }
   ],
   "source": [
    "for text in reversed([1, 2, 3, 4, 5]):\n",
    "    print(text)"
   ]
  },
  {
   "cell_type": "code",
   "execution_count": 16,
   "id": "im8k8MPiEMj1",
   "metadata": {
    "colab": {
     "base_uri": "https://localhost:8080/"
    },
    "executionInfo": {
     "elapsed": 11,
     "status": "ok",
     "timestamp": 1743657170339,
     "user": {
      "displayName": "Kim InSeop",
      "userId": "13965062148001194946"
     },
     "user_tz": -540
    },
    "id": "im8k8MPiEMj1",
    "outputId": "34f1ebad-1e43-43d7-9f29-d63d8b3c3c2b"
   },
   "outputs": [
    {
     "name": "stdout",
     "output_type": "stream",
     "text": [
      "5\n",
      "4\n",
      "3\n",
      "2\n",
      "1\n"
     ]
    }
   ],
   "source": [
    "# [::-1] 사용\n",
    "for text in [1, 2, 3, 4, 5][::-1]:\n",
    "    print(text)"
   ]
  }
 ],
 "metadata": {
  "colab": {
   "collapsed_sections": [
    "1b084797"
   ],
   "provenance": []
  },
  "kernelspec": {
   "display_name": "Python 3 (ipykernel)",
   "language": "python",
   "name": "python3"
  },
  "language_info": {
   "codemirror_mode": {
    "name": "ipython",
    "version": 3
   },
   "file_extension": ".py",
   "mimetype": "text/x-python",
   "name": "python",
   "nbconvert_exporter": "python",
   "pygments_lexer": "ipython3",
   "version": "3.13.5"
  }
 },
 "nbformat": 4,
 "nbformat_minor": 5
}
