{
 "cells": [
  {
   "cell_type": "markdown",
   "id": "fa86b845",
   "metadata": {
    "id": "fa86b845"
   },
   "source": [
    "# 15. def (함수)\n",
    "---"
   ]
  },
  {
   "cell_type": "markdown",
   "id": "725161a3",
   "metadata": {
    "id": "725161a3"
   },
   "source": [
    "## **[1] 기본 구조**\n",
    "```python\n",
    "def 함수명(매개변수):\n",
    "   실행할 문장\n",
    "```\n",
    "- 매개변수(Parameter): 함수 정의 시 입력값을 받기 위한 변수.\n",
    "- 인자(Argument): 함수 호출 시 전달하는 값."
   ]
  },
  {
   "cell_type": "code",
   "execution_count": 1,
   "id": "4363a808",
   "metadata": {
    "colab": {
     "base_uri": "https://localhost:8080/"
    },
    "executionInfo": {
     "elapsed": 5,
     "status": "ok",
     "timestamp": 1743660648365,
     "user": {
      "displayName": "Kim InSeop",
      "userId": "13965062148001194946"
     },
     "user_tz": -540
    },
    "id": "4363a808",
    "outputId": "b24a9c94-15a0-40e2-fdcd-28fe95b4fb15"
   },
   "outputs": [
    {
     "name": "stdout",
     "output_type": "stream",
     "text": [
      "함수\n"
     ]
    }
   ],
   "source": [
    "def name():\n",
    "\tprint('함수')\n",
    "\n",
    "# 함수 호출\n",
    "name()"
   ]
  },
  {
   "cell_type": "markdown",
   "id": "1cddc912",
   "metadata": {
    "id": "1cddc912"
   },
   "source": [
    "## **[2] 매개변수**"
   ]
  },
  {
   "cell_type": "code",
   "execution_count": 7,
   "id": "ed5ff026",
   "metadata": {
    "id": "ed5ff026"
   },
   "outputs": [
    {
     "name": "stdout",
     "output_type": "stream",
     "text": [
      "Hello !\n",
      "Hello wolrd\n"
     ]
    }
   ],
   "source": [
    "# 매개변수 기본값 설정\n",
    "def greet(text='!'):\n",
    "    return f'Hello {text}'\n",
    "\n",
    "print(greet())\n",
    "print(greet('wolrd'))"
   ]
  },
  {
   "cell_type": "code",
   "execution_count": 3,
   "id": "c76d61fd",
   "metadata": {
    "colab": {
     "base_uri": "https://localhost:8080/"
    },
    "executionInfo": {
     "elapsed": 4,
     "status": "ok",
     "timestamp": 1743660918071,
     "user": {
      "displayName": "Kim InSeop",
      "userId": "13965062148001194946"
     },
     "user_tz": -540
    },
    "id": "c76d61fd",
    "outputId": "1113ff9a-9bd9-4468-9282-8f654b654d88"
   },
   "outputs": [
    {
     "name": "stdout",
     "output_type": "stream",
     "text": [
      "(1, 2, 3, 4, 5)\n",
      "15\n"
     ]
    }
   ],
   "source": [
    "# 가변 매개변수\n",
    "def add_all(*args):\n",
    "    print(args)\n",
    "    return sum(args)\n",
    "\n",
    "print(add_all(1, 2, 3, 4, 5))"
   ]
  },
  {
   "cell_type": "markdown",
   "id": "1a4b56c0",
   "metadata": {
    "id": "1a4b56c0"
   },
   "source": [
    "## **[3] 함수의 다양한 형태**\n",
    "1. 매개변수가 있는 함수\n",
    "2. 매개변수가 없는 함수\n",
    "3. 반환값이 있는 함수\n",
    "4. 반환값이 없는 함수"
   ]
  },
  {
   "cell_type": "markdown",
   "id": "d2610d2d-9128-4c56-a667-1a7b52919fe2",
   "metadata": {},
   "source": [
    "### **1. 매개변수가 있는 함수**"
   ]
  },
  {
   "cell_type": "code",
   "execution_count": 4,
   "id": "223429ad",
   "metadata": {
    "colab": {
     "base_uri": "https://localhost:8080/"
    },
    "executionInfo": {
     "elapsed": 5,
     "status": "ok",
     "timestamp": 1743660695489,
     "user": {
      "displayName": "Kim InSeop",
      "userId": "13965062148001194946"
     },
     "user_tz": -540
    },
    "id": "223429ad",
    "outputId": "10125e50-3749-4d3f-92f0-199611eb5d96"
   },
   "outputs": [
    {
     "name": "stdout",
     "output_type": "stream",
     "text": [
      "Hello, hanna!\n"
     ]
    }
   ],
   "source": [
    "def greet(name):\n",
    "    print(f'Hello, {name}!')\n",
    "    \n",
    "greet('hanna')"
   ]
  },
  {
   "cell_type": "markdown",
   "id": "cea55a00-6edb-4def-bb91-c11b6e10f518",
   "metadata": {},
   "source": [
    "### **2. 매개변수가 없는 함수**"
   ]
  },
  {
   "cell_type": "code",
   "execution_count": 5,
   "id": "6b6b9903",
   "metadata": {
    "colab": {
     "base_uri": "https://localhost:8080/"
    },
    "executionInfo": {
     "elapsed": 3,
     "status": "ok",
     "timestamp": 1743660746856,
     "user": {
      "displayName": "Kim InSeop",
      "userId": "13965062148001194946"
     },
     "user_tz": -540
    },
    "id": "6b6b9903",
    "outputId": "1397d6cf-cc86-4ada-b4f8-d91382a30e8c"
   },
   "outputs": [
    {
     "name": "stdout",
     "output_type": "stream",
     "text": [
      "Hello!\n"
     ]
    }
   ],
   "source": [
    "def say_hello():\n",
    "    print('Hello!')\n",
    "\n",
    "say_hello()"
   ]
  },
  {
   "cell_type": "markdown",
   "id": "6318c6b0-b008-4710-9154-b716a2b08966",
   "metadata": {},
   "source": [
    "### **3. 반환값이 있는 함수**"
   ]
  },
  {
   "cell_type": "code",
   "execution_count": 6,
   "id": "d338d829",
   "metadata": {
    "colab": {
     "base_uri": "https://localhost:8080/"
    },
    "executionInfo": {
     "elapsed": 3,
     "status": "ok",
     "timestamp": 1743660810803,
     "user": {
      "displayName": "Kim InSeop",
      "userId": "13965062148001194946"
     },
     "user_tz": -540
    },
    "id": "d338d829",
    "outputId": "cb06aae0-8acb-4b51-f1ae-ffb3ee458718"
   },
   "outputs": [
    {
     "name": "stdout",
     "output_type": "stream",
     "text": [
      "3\n"
     ]
    }
   ],
   "source": [
    "def add(a, b):\n",
    "    return a + b\n",
    "print(add(1, 2))"
   ]
  },
  {
   "cell_type": "markdown",
   "id": "891a0983-b405-4815-beb0-973a98fad7aa",
   "metadata": {},
   "source": [
    "### **4. 반환값이 없는 함수**"
   ]
  },
  {
   "cell_type": "code",
   "execution_count": 7,
   "id": "146bcfda-eb3e-4b92-951f-c9105e9c92b0",
   "metadata": {},
   "outputs": [
    {
     "name": "stdout",
     "output_type": "stream",
     "text": [
      "3\n",
      "3\n",
      "None\n"
     ]
    }
   ],
   "source": [
    "def print_sum(a, b):\n",
    "    print(a + b)\n",
    "\n",
    "a = 1\n",
    "b = 2\n",
    "\n",
    "# 출력은 가능\n",
    "print_sum(a, b)\n",
    "\n",
    "# 반환값은 None\n",
    "print(print_sum(a, b))"
   ]
  },
  {
   "cell_type": "markdown",
   "id": "d93cd731-7c09-4608-bc9a-0396f902f1b9",
   "metadata": {},
   "source": [
    "## **[4] lambda**\n",
    "```python\n",
    "함수명 = lambda 변수: 실행코드\n",
    "```"
   ]
  },
  {
   "cell_type": "code",
   "execution_count": 9,
   "id": "2b3677b6-e7ba-4bb1-ab90-6bd36cf8ac58",
   "metadata": {},
   "outputs": [
    {
     "name": "stdout",
     "output_type": "stream",
     "text": [
      "20\n"
     ]
    }
   ],
   "source": [
    "plus_10 = lambda x: x+10\n",
    "print(plus_10(10))"
   ]
  },
  {
   "cell_type": "code",
   "execution_count": 11,
   "id": "db1b45ce-f379-44e4-a99f-d97133e07c8b",
   "metadata": {},
   "outputs": [
    {
     "name": "stdout",
     "output_type": "stream",
     "text": [
      "이름: D\n",
      "점수: 90\n",
      "등수: 1\n",
      "\n",
      "이름: A\n",
      "점수: 80\n",
      "등수: 2\n",
      "\n",
      "이름: B\n",
      "점수: 75\n",
      "등수: 3\n",
      "\n",
      "이름: E\n",
      "점수: 60\n",
      "등수: 4\n",
      "\n",
      "이름: C\n",
      "점수: 40\n",
      "등수: 5\n",
      "\n"
     ]
    }
   ],
   "source": [
    "score = {'A':80, 'B':75, 'C':40, 'D':90, 'E':60}\n",
    "sorted_score = sorted(score.items(), key = lambda x:x[1], reverse=True)\n",
    "rank = 1\n",
    "for i, j in sorted_score:\n",
    "    print('이름:', i)\n",
    "    print('점수:', j)\n",
    "    print('등수:', rank)\n",
    "    print()\n",
    "\n",
    "    rank += 1"
   ]
  }
 ],
 "metadata": {
  "colab": {
   "provenance": []
  },
  "kernelspec": {
   "display_name": "Python 3 (ipykernel)",
   "language": "python",
   "name": "python3"
  },
  "language_info": {
   "codemirror_mode": {
    "name": "ipython",
    "version": 3
   },
   "file_extension": ".py",
   "mimetype": "text/x-python",
   "name": "python",
   "nbconvert_exporter": "python",
   "pygments_lexer": "ipython3",
   "version": "3.13.5"
  }
 },
 "nbformat": 4,
 "nbformat_minor": 5
}
