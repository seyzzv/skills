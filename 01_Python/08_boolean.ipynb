{
 "cells": [
  {
   "cell_type": "markdown",
   "id": "df559b23",
   "metadata": {
    "id": "df559b23"
   },
   "source": [
    "# 08. boolean (불리언)\n",
    "---"
   ]
  },
  {
   "cell_type": "markdown",
   "id": "03af84e9",
   "metadata": {
    "id": "03af84e9"
   },
   "source": [
    "## **[1] 불리언이란?**\n",
    "- True 또는 False 값만 가질 수 있는 데이터 타입\n",
    "- 대부분의 값은 참(True, 1)\n",
    "- 거짓(False): None, 0, \"\", '', [], (), {}"
   ]
  },
  {
   "cell_type": "code",
   "execution_count": 1,
   "id": "7765980c",
   "metadata": {
    "id": "7765980c"
   },
   "outputs": [
    {
     "name": "stdout",
     "output_type": "stream",
     "text": [
      "True\n",
      "True\n",
      "2\n",
      "0\n"
     ]
    }
   ],
   "source": [
    "print(True == 1)\n",
    "print(False == 0)\n",
    "print(True + 1)\n",
    "print(False * 10)"
   ]
  },
  {
   "cell_type": "markdown",
   "id": "587839e9",
   "metadata": {
    "id": "587839e9"
   },
   "source": [
    "## **[2] 주요 연산**\n",
    "1. 논리 연산자\n",
    "2. 비교 연산자\n",
    "3. 값 비교"
   ]
  },
  {
   "cell_type": "markdown",
   "id": "50abe827-6ea4-4622-a255-c61d3463dd2e",
   "metadata": {},
   "source": [
    "### **1. 논리 연산자**\n",
    "- and: 둘 다  True면 True 반환\n",
    "- or: 둘 중 하나가 True면 True 반환\n",
    "- not: 반대값 반환"
   ]
  },
  {
   "cell_type": "code",
   "execution_count": 2,
   "id": "9e17d005",
   "metadata": {
    "id": "9e17d005"
   },
   "outputs": [
    {
     "name": "stdout",
     "output_type": "stream",
     "text": [
      "False\n",
      "True\n",
      "False\n"
     ]
    }
   ],
   "source": [
    "a = True\n",
    "b = False\n",
    "\n",
    "print(a and b)\n",
    "print(a or b)\n",
    "print(not a)"
   ]
  },
  {
   "cell_type": "markdown",
   "id": "53835c02",
   "metadata": {
    "id": "53835c02"
   },
   "source": [
    "### **2. 비교 연산자**\n",
    "| 연산자 | 설명 | 예시 | 결과 |\n",
    "| --- | --- | --- | --- |\n",
    "| `==` | 같음 | `1 == 1` | `True` |\n",
    "| `!=` | 같지 않음 | `1 != 1` | `False` |\n",
    "| `<` | 작음 | `5 < 10` | `True` |\n",
    "| `>` | 큼 | `5 > 10` | `False` |\n",
    "| `<=` | 작거나 같음 | `2 <= 4` | `True` |\n",
    "| `>=` | 크거나 같음 | `2 >= 4` | `False` |"
   ]
  },
  {
   "cell_type": "markdown",
   "id": "879da6d0",
   "metadata": {
    "id": "879da6d0"
   },
   "source": [
    "### **3. 값 비교**"
   ]
  },
  {
   "cell_type": "code",
   "execution_count": 3,
   "id": "701e85ab",
   "metadata": {
    "id": "701e85ab"
   },
   "outputs": [
    {
     "name": "stdout",
     "output_type": "stream",
     "text": [
      "True\n",
      "True\n",
      "True\n",
      "False\n",
      "False\n",
      "False\n"
     ]
    }
   ],
   "source": [
    "# 참으로 평가되는 값\n",
    "print(bool(1))\n",
    "print(bool('hello'))\n",
    "print(bool([1, 2]))\n",
    "\n",
    "# 거짓으로 평가되는 값\n",
    "print(bool(0))\n",
    "print(bool(''))\n",
    "print(bool([]))"
   ]
  },
  {
   "cell_type": "markdown",
   "id": "e35bb3cc-9cd0-4ff4-a63e-803e38105787",
   "metadata": {},
   "source": [
    "## **[3] 유용한 함수**\n",
    "1. 하나라도 참이면 True 반환: `any`\n",
    "2. 모두 참이면 True 반환: `all`\n",
    "3. 값 포함 여부 확인: `in`, `not in`"
   ]
  },
  {
   "cell_type": "markdown",
   "id": "f62748e0",
   "metadata": {
    "id": "f62748e0"
   },
   "source": [
    "### **1. 하나라도 참이면 True 반환**\n",
    "### **`any(iter)`**\n",
    "- iter: 리스트, 튜플 등 반복 가능한 객체"
   ]
  },
  {
   "cell_type": "code",
   "execution_count": 4,
   "id": "5927ddf6",
   "metadata": {
    "id": "5927ddf6"
   },
   "outputs": [
    {
     "name": "stdout",
     "output_type": "stream",
     "text": [
      "True\n"
     ]
    }
   ],
   "source": [
    "values = [0, 0, 1]\n",
    "print(any(values))"
   ]
  },
  {
   "cell_type": "markdown",
   "id": "59d9817a-f16b-48b4-a417-739a060834b2",
   "metadata": {},
   "source": [
    "### **2. 모두 참이면 True 반환**\n",
    "### **`all(iter)`**\n",
    "- iter: 리스트, 튜플 등 반복 가능한 객체 "
   ]
  },
  {
   "cell_type": "code",
   "execution_count": 5,
   "id": "5612b640-d4bf-4374-97c9-dbb26570f438",
   "metadata": {},
   "outputs": [
    {
     "name": "stdout",
     "output_type": "stream",
     "text": [
      "True\n",
      "False\n"
     ]
    }
   ],
   "source": [
    "values = [1, 2, 3]\n",
    "print(all(values))\n",
    "\n",
    "values = [1, 0, 3]\n",
    "print(all(values))"
   ]
  },
  {
   "cell_type": "markdown",
   "id": "58ced177",
   "metadata": {},
   "source": [
    "### **3. 값 포함 여부 확인**\n",
    "### **`'a' in x`, `'a' not in x`**\n",
    "- a: 찾을 값\n",
    "- x: 검색할 자료형 변수"
   ]
  },
  {
   "cell_type": "code",
   "execution_count": 6,
   "id": "b7b87f8e",
   "metadata": {},
   "outputs": [
    {
     "name": "stdout",
     "output_type": "stream",
     "text": [
      "True\n",
      "False\n",
      "False\n",
      "True\n"
     ]
    }
   ],
   "source": [
    "text = 'ABC'\n",
    "\n",
    "print('A' in text)\n",
    "print('A' not in text)\n",
    "print('D' in text)\n",
    "print('D' not in text)"
   ]
  },
  {
   "cell_type": "code",
   "execution_count": 7,
   "id": "8c045109",
   "metadata": {},
   "outputs": [
    {
     "name": "stdout",
     "output_type": "stream",
     "text": [
      "False\n",
      "True\n",
      "True\n",
      "False\n"
     ]
    }
   ],
   "source": [
    "num = 1, 2, 3, 4, 5\n",
    "\n",
    "print(0 in num)\n",
    "print(0 not in num)\n",
    "print(1 in num)\n",
    "print(1 not in num)"
   ]
  }
 ],
 "metadata": {
  "colab": {
   "provenance": []
  },
  "kernelspec": {
   "display_name": ".venv",
   "language": "python",
   "name": "python3"
  },
  "language_info": {
   "codemirror_mode": {
    "name": "ipython",
    "version": 3
   },
   "file_extension": ".py",
   "mimetype": "text/x-python",
   "name": "python",
   "nbconvert_exporter": "python",
   "pygments_lexer": "ipython3",
   "version": "3.13.5"
  }
 },
 "nbformat": 4,
 "nbformat_minor": 5
}
